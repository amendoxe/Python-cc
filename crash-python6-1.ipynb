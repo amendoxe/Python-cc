{
 "cells": [
  {
   "cell_type": "code",
   "execution_count": null,
   "metadata": {},
   "outputs": [],
   "source": [
    "#6.1 Person\n",
    "# first name, last name, age, city\n"
   ]
  },
  {
   "cell_type": "code",
   "execution_count": 2,
   "metadata": {},
   "outputs": [
    {
     "name": "stdout",
     "output_type": "stream",
     "text": [
      "{'first name': 'timmy', 'last name': 'turner', 'age': '10', 'city': 'dimmsdale'}\n"
     ]
    }
   ],
   "source": [
    "person = {\"first name\": \"timmy\", \"last name\": \"turner\", \"age\": \"10\", \"city\": \"dimmsdale\"}\n",
    "print(person)"
   ]
  },
  {
   "cell_type": "code",
   "execution_count": 5,
   "metadata": {},
   "outputs": [
    {
     "name": "stdout",
     "output_type": "stream",
     "text": [
      "Timmy\n"
     ]
    }
   ],
   "source": [
    "print(person[\"first name\"].title())\n",
    "print(person[\"first name\"].title)\n",
    "\n"
   ]
  },
  {
   "cell_type": "code",
   "execution_count": 5,
   "metadata": {},
   "outputs": [
    {
     "name": "stdout",
     "output_type": "stream",
     "text": [
      "Turner\n",
      "10\n",
      "Dimmsdale\n"
     ]
    }
   ],
   "source": [
    "print(person[\"last name\"].title())\n",
    "print(person[\"age\"])\n",
    "print(person[\"city\"].title())"
   ]
  },
  {
   "cell_type": "code",
   "execution_count": 11,
   "metadata": {},
   "outputs": [
    {
     "name": "stdout",
     "output_type": "stream",
     "text": [
      "20\n",
      "meow meow meow \n"
     ]
    }
   ],
   "source": [
    "adding = int(person[\"age\"]) + 10\n",
    "print(adding)\n",
    "\n",
    "print(\"meow \" * 3)"
   ]
  },
  {
   "cell_type": "code",
   "execution_count": 14,
   "metadata": {},
   "outputs": [
    {
     "name": "stdout",
     "output_type": "stream",
     "text": [
      "{'timmy': 214, 'jimmy': 259, 'dexta': 2, 'Finn': 9, 'fulanite': 32}\n",
      "Timmy\n",
      "Jimmy\n",
      "Dexta\n",
      "Finn\n",
      "Fulanite\n"
     ]
    }
   ],
   "source": [
    "#favorite numbers 5 names, and their fav numbers, print each name and their favorite number\n",
    "\n",
    "favorite_number = {\"timmy\": 214, \"jimmy\": 259, \"dexta\": 2, \"Finn\" : 9, \"fulanite\": 32}\n",
    "\n",
    "print(favorite_number)\n",
    "for key in favorite_number.keys():\n",
    "    print(key.title())"
   ]
  },
  {
   "cell_type": "code",
   "execution_count": 16,
   "metadata": {},
   "outputs": [
    {
     "name": "stdout",
     "output_type": "stream",
     "text": [
      "['timmy', 'jimmy', 'dexta', 'Finn', 'fulanite']\n"
     ]
    }
   ],
   "source": [
    "key_list = list(favorite_number.keys())\n",
    "print(key_list)"
   ]
  },
  {
   "cell_type": "code",
   "execution_count": 17,
   "metadata": {},
   "outputs": [
    {
     "name": "stdout",
     "output_type": "stream",
     "text": [
      "[214, 259, 2, 9, 32]\n"
     ]
    }
   ],
   "source": [
    "value_list = list(favorite_number.values())\n",
    "print(value_list)"
   ]
  },
  {
   "cell_type": "code",
   "execution_count": 22,
   "metadata": {},
   "outputs": [
    {
     "name": "stdout",
     "output_type": "stream",
     "text": [
      "variable:\n",
      "\t tag for the position of a value\n",
      "IDE:\n",
      "\t integrated development environment\n",
      "statement:\n",
      "\t a sentence\n",
      "expression:\n",
      "\t code logic that results in a single value\n",
      "overflow:\n",
      "\t when the necessary space for a representation is greater than the available one\n"
     ]
    }
   ],
   "source": [
    "glossary = {\"variable\": \"tag for the position of a value\", \"IDE\": \"integrated development environment\", \"statement\" : \"a sentence\", \"expression\" : \"code logic that results in a single value\", \"overflow\" : \"when the necessary space for a representation is greater than the available one\"}\n",
    "\n",
    "for key in glossary.keys():\n",
    "    print(key + \":\")\n",
    "    print(f\"\\t {glossary[key]}\")"
   ]
  },
  {
   "cell_type": "code",
   "execution_count": 50,
   "metadata": {},
   "outputs": [],
   "source": [
    "favorite_number = {\"timmy\": 214, \"jimmy\": 259,\n",
    "                   \"dexta\": 2, \"Finn\": 9, \"fulanite\": 32}\n",
    "\n",
    "favorite_fruit = {\"Alice\": \"Apple\", \"Bob\": \"Banana\",\n",
    "                  \"Charlie\": \"Cherry\", \"David\": \"Durian\", \"Eve\": \"Elderberry\",}\n",
    "\n"
   ]
  },
  {
   "cell_type": "code",
   "execution_count": 53,
   "metadata": {},
   "outputs": [
    {
     "name": "stdout",
     "output_type": "stream",
     "text": [
      "{'Alice': 'Apple', 'Bob': 'Banana', 'Charlie': 'Cherry', 'David': 'Durian', 'Eve': 'Elderberry'}\n"
     ]
    }
   ],
   "source": [
    "names = [\"Alice\", \"Bob\", \"Charlie\", \"David\", \"Eve\"]\n",
    "fruits = [\"Apple\", \"Banana\", \"Cherry\", \"Durian\", \"Elderberry\"]\n",
    "combined_list = dict(zip(names, fruits))\n",
    "print(combined_list)"
   ]
  },
  {
   "cell_type": "code",
   "execution_count": 56,
   "metadata": {},
   "outputs": [
    {
     "name": "stdout",
     "output_type": "stream",
     "text": [
      "Alice's favorite fruit is: Apple\n",
      "Bob's favorite fruit is: Banana\n",
      "Charlie's favorite fruit is: Cherry\n",
      "David's favorite fruit is: Durian\n",
      "Eve's favorite fruit is: Elderberry\n"
     ]
    }
   ],
   "source": [
    "for name, fruit in combined_list.items():\n",
    "    print(f\"{name}'s favorite fruit is: {fruit}\")"
   ]
  },
  {
   "cell_type": "code",
   "execution_count": null,
   "metadata": {},
   "outputs": [],
   "source": []
  }
 ],
 "metadata": {
  "kernelspec": {
   "display_name": "Python 3",
   "language": "python",
   "name": "python3"
  },
  "language_info": {
   "codemirror_mode": {
    "name": "ipython",
    "version": 3
   },
   "file_extension": ".py",
   "mimetype": "text/x-python",
   "name": "python",
   "nbconvert_exporter": "python",
   "pygments_lexer": "ipython3",
   "version": "3.11.2"
  },
  "orig_nbformat": 4
 },
 "nbformat": 4,
 "nbformat_minor": 2
}
