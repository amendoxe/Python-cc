{
 "cells": [
  {
   "cell_type": "code",
   "execution_count": 4,
   "metadata": {},
   "outputs": [
    {
     "name": "stdout",
     "output_type": "stream",
     "text": [
      "[{'color': 'green', 'points': 5, 'speed': 'slow'}, {'color': 'green', 'points': 5, 'speed': 'slow'}, {'color': 'green', 'points': 5, 'speed': 'slow'}, {'color': 'green', 'points': 5, 'speed': 'slow'}, {'color': 'green', 'points': 5, 'speed': 'slow'}]\n"
     ]
    }
   ],
   "source": [
    "#List of dictionaries \n",
    "#Creamos una flota de 30 aliens, primero creamos una lista vacía\n",
    "alien_fleet = []\n",
    "\n",
    "for alien_number in range (30):\n",
    "    alien = {\"color\": \"green\", \"points\": 5, \"speed\": \"slow\"}\n",
    "    alien_fleet.append(alien)\n",
    "\n",
    "print(alien_fleet[:5])\n"
   ]
  },
  {
   "cell_type": "code",
   "execution_count": 21,
   "metadata": {},
   "outputs": [
    {
     "name": "stdout",
     "output_type": "stream",
     "text": [
      "[{'color': 'yellow', 'points': 10, 'speed': 'medium'}, {'color': 'yellow', 'points': 10, 'speed': 'medium'}, {'color': 'yellow', 'points': 10, 'speed': 'medium'}, {'color': 'green', 'points': 5, 'speed': 'slow'}, {'color': 'green', 'points': 5, 'speed': 'slow'}] \n"
     ]
    }
   ],
   "source": [
    "#ahora vamos a cambiar los primero 3 aliens de la flota, de green a yellow\n",
    "for alien in alien_fleet[:3]:\n",
    "    if alien[\"color\"] == \"green\":\n",
    "        alien[\"color\"] = \"yellow\"\n",
    "        alien[\"points\"] = 10\n",
    "        alien[\"speed\"] = \"medium\"\n",
    "\n",
    "print(alien_fleet[:5])\n"
   ]
  },
  {
   "cell_type": "code",
   "execution_count": 19,
   "metadata": {},
   "outputs": [
    {
     "name": "stdout",
     "output_type": "stream",
     "text": [
      "{'color': 'green', 'points': 5, 'speed': 'slow'}\n",
      "green\n"
     ]
    }
   ],
   "source": [
    "print(alien_fleet[1])\n",
    "print(alien_fleet[1]['color'])\n"
   ]
  },
  {
   "cell_type": "code",
   "execution_count": 5,
   "metadata": {},
   "outputs": [
    {
     "name": "stdout",
     "output_type": "stream",
     "text": [
      "{'color': 'green', 'points': 5, 'speed': 'slow'}\n",
      "{'color': 'green', 'points': 5, 'speed': 'slow'}\n",
      "{'color': 'green', 'points': 5, 'speed': 'slow'}\n",
      "{'color': 'green', 'points': 5, 'speed': 'slow'}\n",
      "{'color': 'green', 'points': 5, 'speed': 'slow'}\n"
     ]
    }
   ],
   "source": [
    "for alien in alien_fleet[:2]:\n",
    "    if alien[\"color\"]== \"yellow\":\n",
    "        alien[\"color\"] = \"red\"\n",
    "        alien[\"points\"] = 15\n",
    "        alien[\"speed\"] = \"fast\"\n",
    "\n",
    "for alien in alien_fleet[:5]:\n",
    "    print(alien)"
   ]
  },
  {
   "cell_type": "code",
   "execution_count": 9,
   "metadata": {},
   "outputs": [
    {
     "name": "stdout",
     "output_type": "stream",
     "text": [
      "Your order is crunchy crust with the topping:\n",
      "mushrooms\n",
      "cheese\n"
     ]
    }
   ],
   "source": [
    "pizza_order = {\"crust\" : \"crunchy\", \"toppings\": [\"mushrooms\", \"cheese\"]}\n",
    "\n",
    "print(f\"Your order is {pizza_order['crust']} crust with \"\n",
    "      f\"the topping:\") \n",
    "for topping in pizza_order['toppings']:\n",
    "    print(topping)"
   ]
  },
  {
   "cell_type": "code",
   "execution_count": 14,
   "metadata": {},
   "outputs": [
    {
     "name": "stdout",
     "output_type": "stream",
     "text": [
      "uno\n",
      "dict_keys(['uno', 'dos'])\n",
      "dos\n",
      "dict_keys(['uno', 'dos'])\n"
     ]
    }
   ],
   "source": [
    "list_one = [\"uno\", \"dos\"]\n",
    "list_two = [\"tres\", \"cuatro\"]\n",
    "dictionary_one = {\"uno\": list_one, \"dos\":list_two}\n",
    "for dictionary in dictionary_one:\n",
    "    print(dictionary)\n"
   ]
  },
  {
   "cell_type": "code",
   "execution_count": 26,
   "metadata": {},
   "outputs": [
    {
     "name": "stdout",
     "output_type": "stream",
     "text": [
      "Jen favorite languages are:\n",
      "python\n",
      "ruby\n",
      "\n",
      "Sarah's favorite language is ['c']\n",
      "\n",
      "Edward favorite languages are:\n",
      "ruby\n",
      "go\n",
      "\n",
      "Phil favorite languages are:\n",
      "python\n",
      "haskell\n",
      "\n"
     ]
    }
   ],
   "source": [
    "favorite_languages = {\n",
    "    \"jen\": [\"python\", \"ruby\"],\n",
    "    \"sarah\":['c'], \n",
    "    'edward': ['ruby', 'go'],\n",
    "    'phil': ['python', 'haskell']\n",
    "}\n",
    "for user, languages in favorite_languages.items(): #para escribir un for loop de un dictionary usamos .items() que, parece que regresa un tupple?\n",
    "    if len(languages) > 1:\n",
    "        print(f\"{user.title()} favorite languages are:\")\n",
    "        for language in languages:\n",
    "            print(language)\n",
    "    else:\n",
    "        print(f\"{user.title()}'s favorite language is {languages}\")\n",
    "    print()"
   ]
  },
  {
   "cell_type": "code",
   "execution_count": 34,
   "metadata": {},
   "outputs": [
    {
     "name": "stdout",
     "output_type": "stream",
     "text": [
      "This is all the information that we have on person: jimmy\n",
      "\t last name: noutron\n",
      "\t city: some city\n",
      "This is all the information that we have on person: tymmy\n",
      "\t last name: torner\n",
      "\t city: another city\n"
     ]
    }
   ],
   "source": [
    "# Ejercicios 6.7 \n",
    "#2 dictionaries inside a people list, loop printing everything\n",
    "person1 = {\"first\": \"jimmy\", \"last\": \"noutron\", \"city\": \"some city\"}\n",
    "person2 = {\"first\": \"tymmy\", \"last\": \"torner\", \"city\": \"another city\"}\n",
    "people = [person1, person2]\n",
    "\n",
    "for person in people:\n",
    "    print(F\"This is all the information that we have on person: {person['first']}\"\n",
    "          f\"\\n\\t last name: {person['last']}\"\n",
    "          f\"\\n\\t city: {person['city']}\")\n",
    "        \n",
    "\n"
   ]
  },
  {
   "cell_type": "code",
   "execution_count": 42,
   "metadata": {},
   "outputs": [
    {
     "name": "stdout",
     "output_type": "stream",
     "text": [
      "The owner John, has a dog pet\n",
      "The owner Sarah, has a cat pet\n",
      "The owner David, has a hamster pet\n",
      "The owner Adam, has a parrot pet\n",
      "The owner Julie, has a rabbit pet\n"
     ]
    }
   ],
   "source": [
    "#Ejercicio 6.8\n",
    "#several dictionaries of pets kind of anime, owner's name, store in list pets\n",
    "#loop through the list and print everything\n",
    "pet1 = {\"type\": \"dog\", \"owner\": \"john\"}\n",
    "pet2 = {\"type\": \"cat\", \"owner\": \"sarah\"}\n",
    "pet3 = {\"type\": \"hamster\", \"owner\": \"david\"}\n",
    "pet4 = {\"type\": \"parrot\", \"owner\": \"adam\"}\n",
    "pet5 = {\"type\": \"rabbit\", \"owner\": \"julie\"}\n",
    "pets = [pet1, pet2, pet3, pet4, pet5]\n",
    "\n",
    "for pet in pets:\n",
    "    print(f\"The owner {pet['owner'].title()}, has a {pet['type']} pet\")\n"
   ]
  },
  {
   "cell_type": "code",
   "execution_count": null,
   "metadata": {},
   "outputs": [],
   "source": []
  }
 ],
 "metadata": {
  "kernelspec": {
   "display_name": "Python 3",
   "language": "python",
   "name": "python3"
  },
  "language_info": {
   "codemirror_mode": {
    "name": "ipython",
    "version": 3
   },
   "file_extension": ".py",
   "mimetype": "text/x-python",
   "name": "python",
   "nbconvert_exporter": "python",
   "pygments_lexer": "ipython3",
   "version": "3.11.2"
  },
  "orig_nbformat": 4
 },
 "nbformat": 4,
 "nbformat_minor": 2
}
