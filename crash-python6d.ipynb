{
 "cells": [
  {
   "cell_type": "code",
   "execution_count": 3,
   "metadata": {},
   "outputs": [
    {
     "name": "stdout",
     "output_type": "stream",
     "text": [
      "[{'color': 'green', 'points': 5, 'speed': 'slow'}, {'color': 'green', 'points': 5, 'speed': 'slow'}, {'color': 'green', 'points': 5, 'speed': 'slow'}, {'color': 'green', 'points': 5, 'speed': 'slow'}, {'color': 'green', 'points': 5, 'speed': 'slow'}]\n"
     ]
    }
   ],
   "source": [
    "#List of dictionaries \n",
    "#Creamos una flota de 30 aliens, primero creamos una lista vacía\n",
    "alien_fleet = []\n",
    "\n",
    "for alien_number in range (30):\n",
    "    alien = {\"color\": \"green\", \"points\": 5, \"speed\": \"slow\"}\n",
    "    alien_fleet.append(alien)\n",
    "\n",
    "print(alien_fleet[:5])\n"
   ]
  },
  {
   "cell_type": "code",
   "execution_count": 21,
   "metadata": {},
   "outputs": [
    {
     "name": "stdout",
     "output_type": "stream",
     "text": [
      "[{'color': 'yellow', 'points': 10, 'speed': 'medium'}, {'color': 'yellow', 'points': 10, 'speed': 'medium'}, {'color': 'yellow', 'points': 10, 'speed': 'medium'}, {'color': 'green', 'points': 5, 'speed': 'slow'}, {'color': 'green', 'points': 5, 'speed': 'slow'}] \n"
     ]
    }
   ],
   "source": [
    "#ahora vamos a cambiar los primero 3 aliens de la flota, de green a yellow\n",
    "for alien in alien_fleet[:3]:\n",
    "    if alien[\"color\"] == \"green\":\n",
    "        alien[\"color\"] = \"yellow\"\n",
    "        alien[\"points\"] = 10\n",
    "        alien[\"speed\"] = \"medium\"\n",
    "\n",
    "print(alien_fleet[:5])\n"
   ]
  },
  {
   "cell_type": "code",
   "execution_count": 19,
   "metadata": {},
   "outputs": [
    {
     "name": "stdout",
     "output_type": "stream",
     "text": [
      "{'color': 'green', 'points': 5, 'speed': 'slow'}\n",
      "green\n"
     ]
    }
   ],
   "source": [
    "print(alien_fleet[1])\n",
    "print(alien_fleet[1]['color'])\n"
   ]
  },
  {
   "cell_type": "code",
   "execution_count": 23,
   "metadata": {},
   "outputs": [
    {
     "name": "stdout",
     "output_type": "stream",
     "text": [
      "{'color': 'red', 'points': 15, 'speed': 'fast'}\n",
      "{'color': 'red', 'points': 15, 'speed': 'fast'}\n",
      "{'color': 'yellow', 'points': 10, 'speed': 'medium'}\n",
      "{'color': 'green', 'points': 5, 'speed': 'slow'}\n",
      "{'color': 'green', 'points': 5, 'speed': 'slow'}\n"
     ]
    }
   ],
   "source": [
    "for alien in alien_fleet[:2]:\n",
    "    if alien[\"color\"]== \"yellow\":\n",
    "        alien[\"color\"] = \"red\"\n",
    "        alien[\"points\"] = 15\n",
    "        alien[\"speed\"] = \"fast\"\n",
    "\n",
    "for alien in alien_fleet[:5]:\n",
    "    print(alien)"
   ]
  }
 ],
 "metadata": {
  "kernelspec": {
   "display_name": "Python 3",
   "language": "python",
   "name": "python3"
  },
  "language_info": {
   "codemirror_mode": {
    "name": "ipython",
    "version": 3
   },
   "file_extension": ".py",
   "mimetype": "text/x-python",
   "name": "python",
   "nbconvert_exporter": "python",
   "pygments_lexer": "ipython3",
   "version": "3.11.2"
  },
  "orig_nbformat": 4
 },
 "nbformat": 4,
 "nbformat_minor": 2
}
