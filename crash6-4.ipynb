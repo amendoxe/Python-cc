{
 "cells": [
  {
   "cell_type": "code",
   "execution_count": 1,
   "metadata": {},
   "outputs": [
    {
     "name": "stdout",
     "output_type": "stream",
     "text": [
      "Son iguales\n"
     ]
    }
   ],
   "source": [
    "my_string = \"pancakes\"\n",
    "second_string = \"pancakes\"\n",
    "if my_string == second_string:\n",
    "    print(\"Son iguales\")\n",
    "else:\n",
    "    print(\"son diferentes\")"
   ]
  },
  {
   "cell_type": "code",
   "execution_count": null,
   "metadata": {},
   "outputs": [],
   "source": [
    "# On python the strings are objectos"
   ]
  },
  {
   "cell_type": "code",
   "execution_count": 16,
   "metadata": {},
   "outputs": [
    {
     "name": "stdout",
     "output_type": "stream",
     "text": [
      "It is here dog\n",
      "what is this cherry\n"
     ]
    }
   ],
   "source": [
    "my_list = ['apple', 'banana', 'cherry']\n",
    "word = \"apple\"\n",
    "if word in my_list:\n",
    "    print(\"It is here dog\")\n",
    "else:\n",
    "    print(\"It is not here\")\n",
    "\n",
    "print(f\"what is this {my_list[2]}\")\n"
   ]
  },
  {
   "cell_type": "code",
   "execution_count": 23,
   "metadata": {},
   "outputs": [
    {
     "name": "stdout",
     "output_type": "stream",
     "text": [
      "10\n",
      "This word Python means: \n",
      " A high-level, interpreted programming language.\n",
      "This word Variable means: \n",
      " A named location in memory used to store data.\n",
      "This word Function means: \n",
      " A block of code that performs a specific task, can be reused throughout a program.\n",
      "This word List means: \n",
      " An ordered collection of values, mutable.\n",
      "This word Tuple means: \n",
      " An ordered collection of values, immutable.\n",
      "This word Dictionary means: \n",
      " An unordered collection of key-value pairs, mutable.\n",
      "This word Set means: \n",
      " An unordered collection of unique values, mutable.\n",
      "This word Loop means: \n",
      " A control structure that repeats a block of code until a condition is met.\n",
      "This word Module means: \n",
      " A file containing Python code that can be imported and used in other Python code.\n",
      "This word Package means: \n",
      " A collection of related modules that can be imported and used in other Python code.\n"
     ]
    }
   ],
   "source": [
    "# 6-4 Glossary 2\n",
    "# print neatly the term and the value\n",
    "python_terms = {\n",
    "    \"Python\": \"A high-level, interpreted programming language.\",\n",
    "    \"Variable\": \"A named location in memory used to store data.\",\n",
    "    \"Function\": \"A block of code that performs a specific task, can be reused throughout a program.\",\n",
    "    \"List\": \"An ordered collection of values, mutable.\",\n",
    "    \"Tuple\": \"An ordered collection of values, immutable.\",\n",
    "    \"Dictionary\": \"An unordered collection of key-value pairs, mutable.\",\n",
    "    \"Set\": \"An unordered collection of unique values, mutable.\",\n",
    "    \"Loop\": \"A control structure that repeats a block of code until a condition is met.\",\n",
    "    \"Module\": \"A file containing Python code that can be imported and used in other Python code.\",\n",
    "    \"Package\": \"A collection of related modules that can be imported and used in other Python code.\"\n",
    "}\n",
    "\n",
    "\"\"\" for term, description in python_terms:\n",
    "    print(f\"This word {term} means: \\n {description} \") \"\"\"\n",
    "\n",
    "python_terms_size = len(python_terms)\n",
    "print(python_terms_size)\n",
    " \n",
    "# for i in range(python_terms_size):\n",
    "#     print(f\"This word {python_terms[i]} means: \\n {python_terms[i]} \")\n",
    "\n",
    "for term, description in python_terms.items():\n",
    "    print(f\"This word {term} means: \\n {description}\")\n",
    "    \n"
   ]
  },
  {
   "cell_type": "code",
   "execution_count": 24,
   "metadata": {},
   "outputs": [
    {
     "name": "stdout",
     "output_type": "stream",
     "text": [
      "Python\n",
      "Variable\n",
      "Function\n",
      "List\n",
      "Tuple\n",
      "Dictionary\n",
      "Set\n",
      "Loop\n",
      "Module\n",
      "Package\n"
     ]
    }
   ],
   "source": [
    "python_terms = {\n",
    "    \"Python\": \"A high-level, interpreted programming language.\",\n",
    "    \"Variable\": \"A named location in memory used to store data.\",\n",
    "    \"Function\": \"A block of code that performs a specific task, can be reused throughout a program.\",\n",
    "    \"List\": \"An ordered collection of values, mutable.\",\n",
    "    \"Tuple\": \"An ordered collection of values, immutable.\",\n",
    "    \"Dictionary\": \"An unordered collection of key-value pairs, mutable.\",\n",
    "    \"Set\": \"An unordered collection of unique values, mutable.\",\n",
    "    \"Loop\": \"A control structure that repeats a block of code until a condition is met.\",\n",
    "    \"Module\": \"A file containing Python code that can be imported and used in other Python code.\",\n",
    "    \"Package\": \"A collection of related modules that can be imported and used in other Python code.\"\n",
    "}\n",
    "for term in python_terms:\n",
    "    print(term)"
   ]
  },
  {
   "cell_type": "code",
   "execution_count": 6,
   "metadata": {},
   "outputs": [
    {
     "name": "stdout",
     "output_type": "stream",
     "text": [
      "The Amazon runs through Brazil\n",
      "The Nile runs through Egypt\n",
      "The Yangtze runs through China\n",
      "-----------\n",
      "Amazon\n",
      "Nile\n",
      "Yangtze\n",
      "-----------\n",
      "Brazil\n",
      "Egypt\n",
      "China\n"
     ]
    }
   ],
   "source": [
    "rivers = {\n",
    "    \"Amazon\": \"Brazil\",\n",
    "    \"Nile\": \"Egypt\",\n",
    "    \"Yangtze\": \"China\"\n",
    "}\n",
    "for river, country in rivers.items():\n",
    "    print(f\"The {river} runs through {country}\")\n",
    "print(\"-----------\")\n",
    "\n",
    "for river in rivers:\n",
    "    print(river)\n",
    "print(\"-----------\")\n",
    "\n",
    "for country in rivers.values():\n",
    "    print(country)\n"
   ]
  },
  {
   "cell_type": "code",
   "execution_count": 1,
   "metadata": {},
   "outputs": [
    {
     "name": "stdout",
     "output_type": "stream",
     "text": [
      "Alice, You got a favorite language\n",
      "Charlie, You got a favorite language\n",
      "Eve, You got a favorite language\n",
      "Jimmy, Please take our survey\n",
      "Timmy, Please take our survey\n"
     ]
    }
   ],
   "source": [
    "my_dict = {\n",
    "    \"Alice\": \"Python\",\n",
    "    \"Bob\": \"Java\",\n",
    "    \"Charlie\": \"JavaScript\",\n",
    "    \"Dave\": \"C++\",\n",
    "    \"Eve\": \"Ruby\"\n",
    "}\n",
    "peeps = [\"Alice\", \"Charlie\", \"Eve\", \"Jimmy\", \"Timmy\"]\n",
    "for peep in peeps:\n",
    "    if peep in my_dict:\n",
    "        print(f\"{peep}, You got a favorite language\")\n",
    "    else:\n",
    "        print(f\"{peep}, Please take our survey\")\n",
    "\n",
    "\n"
   ]
  },
  {
   "cell_type": "code",
   "execution_count": 3,
   "metadata": {},
   "outputs": [
    {
     "name": "stdout",
     "output_type": "stream",
     "text": [
      "dict_keys(['Alice', 'Bob', 'Charlie', 'Dave', 'Eve'])\n"
     ]
    }
   ],
   "source": [
    "print(my_dict.keys())\n"
   ]
  },
  {
   "cell_type": "code",
   "execution_count": 6,
   "metadata": {},
   "outputs": [
    {
     "name": "stdout",
     "output_type": "stream",
     "text": [
      "{'a': 1, 'b': 2, 'c': 3}\n"
     ]
    }
   ],
   "source": [
    "keys = ['a', 'b', 'c']\n",
    "values = [1, 2, 3]\n",
    "\n",
    "my_dict2 = {k: v for k, v in zip(keys, values)}\n",
    "\n",
    "print(my_dict2)\n"
   ]
  },
  {
   "cell_type": "code",
   "execution_count": 7,
   "metadata": {},
   "outputs": [
    {
     "name": "stdout",
     "output_type": "stream",
     "text": [
      "{1: 'a', 2: 'b', 3: 'c'}\n"
     ]
    }
   ],
   "source": [
    "keys = ['a', 'b', 'c']\n",
    "values = [1, 2, 3]\n",
    "\n",
    "my_dict3 = {v: k for k, v in zip(keys, values)}\n",
    "\n",
    "print(my_dict3)\n"
   ]
  },
  {
   "cell_type": "code",
   "execution_count": null,
   "metadata": {},
   "outputs": [],
   "source": []
  }
 ],
 "metadata": {
  "kernelspec": {
   "display_name": "Python 3",
   "language": "python",
   "name": "python3"
  },
  "language_info": {
   "codemirror_mode": {
    "name": "ipython",
    "version": 3
   },
   "file_extension": ".py",
   "mimetype": "text/x-python",
   "name": "python",
   "nbconvert_exporter": "python",
   "pygments_lexer": "ipython3",
   "version": "3.11.2"
  },
  "orig_nbformat": 4
 },
 "nbformat": 4,
 "nbformat_minor": 2
}
