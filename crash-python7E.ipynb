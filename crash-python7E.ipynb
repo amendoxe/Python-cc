{
 "cells": [
  {
   "cell_type": "code",
   "execution_count": 3,
   "metadata": {},
   "outputs": [
    {
     "name": "stdout",
     "output_type": "stream",
     "text": [
      "Searching... Let me see if I can find you a \n"
     ]
    }
   ],
   "source": [
    "#7-1 Rental car\n",
    "# Ask the user what kind of car, imprime mensaje de buscando\n",
    "message = input(\"Escribe el tipo de auto que deseas rentar\")\n",
    "print(f\"Searching... Let me see if I can find you a {message}\")"
   ]
  },
  {
   "cell_type": "code",
   "execution_count": 8,
   "metadata": {},
   "outputs": [],
   "source": [
    "#7-2 Restaurant Seating: How many people if > than 8 wait else ready\n",
    "\n",
    "message = input(\"Escribe para cuantas personas deseas la mesa: \")\n",
    "message = int(message)\n",
    "if message > 0:\n",
    "    if message >= 8:\n",
    "        print(\"Our big tables are full, you'll have to wait for the table\")\n",
    "    else:\n",
    "        print(\"your table is ready\")"
   ]
  },
  {
   "cell_type": "code",
   "execution_count": 17,
   "metadata": {},
   "outputs": [
    {
     "name": "stdout",
     "output_type": "stream",
     "text": [
      "Es múltiplo de 10\n"
     ]
    }
   ],
   "source": [
    "#7-3 Multiples of 10\n",
    "# Ask for a number and report if the number is multiple of 10\n",
    "message = input(f\"Escribe un número y te diré si es multiplo de diez: \")\n",
    "message = int(message)\n",
    "\n",
    "if message % 10 == 0:\n",
    "   print(\"Es múltiplo de 10\")\n",
    "else:\n",
    "   print(\"no es múltiplo de 10\")"
   ]
  },
  {
   "cell_type": "code",
   "execution_count": 1,
   "metadata": {},
   "outputs": [
    {
     "name": "stdout",
     "output_type": "stream",
     "text": [
      "We are adding the pepperoni topping\n",
      "We are adding the salami topping\n",
      "We are adding the aceitunas topping\n",
      "We are adding the tomato topping\n",
      "We are adding the anchoves topping\n",
      "We are adding the potato topping\n",
      "We are adding the potato topping\n",
      "The toppings you selected are: \n",
      "pepperoni\n",
      "salami\n",
      "aceitunas\n",
      "tomato\n",
      "anchoves\n",
      "potato\n",
      "potato\n"
     ]
    }
   ],
   "source": [
    "#7-4 pizza toppings\n",
    "#add toppings with message until quit\n",
    "\n",
    "prompt = \"Write the topping you'd like to add to your pizza\"\n",
    "prompt = f\"\\nType 'quit' to stop adding toppings\"\n",
    "toppings = []\n",
    "\n",
    "while True:\n",
    "    message = input(prompt)\n",
    "    if message == \"quit\":\n",
    "        break\n",
    "    else:\n",
    "        toppings.append(message)\n",
    "        print(f\"We are adding the {message} topping\")\n",
    "print(\"The toppings you selected are: \")\n",
    "for topping in toppings:\n",
    "    print(topping)\n"
   ]
  },
  {
   "cell_type": "code",
   "execution_count": 2,
   "metadata": {},
   "outputs": [
    {
     "name": "stdout",
     "output_type": "stream",
     "text": [
      "for customers aged 3 the price of the ticket is: \n",
      "$10\n",
      "for customers aged 5 the price of the ticket is: \n",
      "$10\n",
      "for customers aged 25 the price of the ticket is: \n",
      "$15\n",
      "for customers aged 1 the price of the ticket is: \n",
      "$Free!\n"
     ]
    }
   ],
   "source": [
    "# ask the user age and tell the cost\n",
    "prompt = \"Write your age and the ticket price will be displayed\"\n",
    "prompt += f\"\\ntype 'quit' to exit the program: \"\n",
    "\n",
    "while True:\n",
    "    age = input(prompt)\n",
    "    if age == 'quit':\n",
    "        break\n",
    "    age_int = int(age)\n",
    "    cost = 0\n",
    "    if age_int < 3:\n",
    "        cost = \"Free!\"\n",
    "    if age_int >= 3 and age_int <= 12:\n",
    "        cost = 10\n",
    "    if age_int > 12:\n",
    "        cost = 15\n",
    "    print(\n",
    "        f\"for customers aged {age_int} the price of the ticket is: \\n${cost}\")\n"
   ]
  },
  {
   "cell_type": "code",
   "execution_count": 7,
   "metadata": {},
   "outputs": [
    {
     "name": "stdout",
     "output_type": "stream",
     "text": [
      "The ticket cost is: \n",
      "Free!\n",
      "The ticket cost is: \n",
      "Free!\n",
      "The ticket cost is: \n",
      "10\n"
     ]
    },
    {
     "ename": "ValueError",
     "evalue": "invalid literal for int() with base 10: '3.1'",
     "output_type": "error",
     "traceback": [
      "\u001b[0;31m---------------------------------------------------------------------------\u001b[0m",
      "\u001b[0;31mValueError\u001b[0m                                Traceback (most recent call last)",
      "Cell \u001b[0;32mIn[7], line 17\u001b[0m\n\u001b[1;32m     15\u001b[0m     active \u001b[39m=\u001b[39m \u001b[39mFalse\u001b[39;00m\n\u001b[1;32m     16\u001b[0m     \u001b[39mcontinue\u001b[39;00m\n\u001b[0;32m---> 17\u001b[0m age_int \u001b[39m=\u001b[39m \u001b[39mint\u001b[39;49m(age)\n\u001b[1;32m     18\u001b[0m \u001b[39mif\u001b[39;00m age_int \u001b[39m<\u001b[39m \u001b[39m0\u001b[39m:\n\u001b[1;32m     19\u001b[0m     cost \u001b[39m=\u001b[39m \u001b[39m\"\u001b[39m\u001b[39mIngresa tu edad nuevamente\u001b[39m\u001b[39m\"\u001b[39m\n",
      "\u001b[0;31mValueError\u001b[0m: invalid literal for int() with base 10: '3.1'"
     ]
    }
   ],
   "source": [
    "#7-6 Write different versions of 7-4 or 5 that\n",
    "# use conditional test in the while to stop the loop\n",
    "# use active variable to control how long the loop runs\n",
    "# use a break statement to exit using quit\n",
    "\n",
    "#Pizza variation\n",
    "# ask the user age and tell the cost\n",
    "prompt = \"Write your age and the ticket price will be displayed\"\n",
    "prompt += f\"\\ntype 'quit' to exit the program: \"\n",
    "active = True\n",
    "cost = 0\n",
    "while active == True:\n",
    "    age = input(prompt)\n",
    "    if age == \"quit\":\n",
    "        active = False\n",
    "        continue\n",
    "    age_int = int(age)\n",
    "    if age_int < 0:\n",
    "        cost = \"Ingresa tu edad nuevamente\"\n",
    "    if age_int < 3 and age_int > 0:\n",
    "        cost = \"Free!\"\n",
    "    if age_int > 3 and age_int < 12:\n",
    "        cost = 10\n",
    "    if age_int > 12 :\n",
    "        cost = 15\n",
    "    print(f\"The ticket cost is: \\n{cost}\")\n"
   ]
  },
  {
   "cell_type": "code",
   "execution_count": 5,
   "metadata": {},
   "outputs": [
    {
     "name": "stdout",
     "output_type": "stream",
     "text": [
      "preparing the chicken sandwich\n",
      "preparing the pepperoni sandwich\n",
      "preparing the tomato sandwich\n",
      "preparing the ham sandwich\n",
      "preparing the tuna sandwich\n",
      "----------------\n",
      "Today we made the following sandwiches today: \n",
      "\tChicken sandwich\n",
      "\tPepperoni sandwich\n",
      "\tTomato sandwich\n",
      "\tHam sandwich\n",
      "\tTuna sandwich\n"
     ]
    }
   ],
   "source": [
    "#7-8 sandwich orders vs sandwiches finished\n",
    "orders = [\"tuna\", \"ham\", \"tomato\", \"pepperoni\", \"chicken\"]\n",
    "finished =[]\n",
    "\n",
    "while orders:\n",
    "    preparing = orders.pop()\n",
    "    print(f\"preparing the {preparing} sandwich\")\n",
    "    finished.append(preparing)\n",
    "print(\"----------------\")\n",
    "print(\"Today we made the following sandwiches today: \")\n",
    "for finis in finished:\n",
    "    print(f\"\\t{finis.title()} sandwich\")"
   ]
  },
  {
   "cell_type": "code",
   "execution_count": 12,
   "metadata": {},
   "outputs": [
    {
     "name": "stdout",
     "output_type": "stream",
     "text": [
      "------------------orders----------------\n",
      "This are the current orders\n",
      "Tuna sandwich\n",
      "Ham sandwich\n",
      "Pastrami sandwich\n",
      "Tomato sandwich\n",
      "Pepperoni sandwich\n",
      "Pastrami sandwich\n",
      "Chicken sandwich\n",
      "Pastrami sandwich\n",
      "------------------Messages----------------\n",
      "Unfortunately Deli has ran out of pastrami so we'll have to cancel all pastrami orders\n",
      "preparing Chicken sandwich\n",
      "preparing Pepperoni sandwich\n",
      "preparing Tomato sandwich\n",
      "preparing Ham sandwich\n",
      "preparing Tuna sandwich\n",
      "------------------finished----------------\n",
      "\tWe finished the following orders:\n",
      "Chicken sandwich\n",
      "Pepperoni sandwich\n",
      "Tomato sandwich\n",
      "Ham sandwich\n",
      "Tuna sandwich\n",
      "------------------the remaining orders are----------------\n"
     ]
    }
   ],
   "source": [
    "#7-9 No pastrami\n",
    "#with list orders, multiples 'pastramis', deli ran out of pastramis\n",
    "#remove pastrami from orders\n",
    "print(\"------------------orders----------------\")\n",
    "\n",
    "orders = [\"tuna\", \"ham\", \"pastrami\",\"tomato\", \"pepperoni\", \"pastrami\", \"chicken\", \"pastrami\"]\n",
    "print(\"This are the current orders\")\n",
    "for order in orders:\n",
    "    print(f\"{order.title()} sandwich\")\n",
    "finished_orders = []\n",
    "print(\"------------------Messages----------------\")\n",
    "\n",
    "print(\"Unfortunately Deli has ran out of pastrami so we'll have to cancel all pastrami orders\")\n",
    "\n",
    "while \"pastrami\" in orders:\n",
    "    orders.remove(\"pastrami\")\n",
    "\n",
    "while orders:\n",
    "    preparing = orders.pop()\n",
    "    print(f\"preparing {preparing.title()} sandwich\")\n",
    "    finished_orders.append(preparing)\n",
    "print(\"------------------finished----------------\")\n",
    "print(\"\\tWe finished the following orders:\")\n",
    "for order in finished:\n",
    "    print(f\"{order.title()} sandwich\")\n",
    "print(\"------------------the remaining orders are----------------\")\n",
    "for order in orders:\n",
    "    print(order.title())\n",
    "\n"
   ]
  },
  {
   "cell_type": "code",
   "execution_count": 16,
   "metadata": {},
   "outputs": [
    {
     "name": "stdout",
     "output_type": "stream",
     "text": [
      "The poll results are: \n",
      "Timmy dream vacation would be in Paris\n",
      "Jimmy dream vacation would be in Cancun\n",
      "Perenganite dream vacation would be in Tokyo\n"
     ]
    }
   ],
   "source": [
    "#Dream vacation\n",
    "#pool, where would be, print the result of the poll\n",
    "results = {}\n",
    "while True:\n",
    "    name = input(\"What is your name?\\n: \")\n",
    "    where = input(\"Where would be your dream vacation?\\n: \")\n",
    "    results[name] = where\n",
    "    repeat = input(\"Do you want to end the poll? y/n\\n: \")\n",
    "    if repeat == \"y\" or repeat == \"yes\":\n",
    "        break\n",
    "print(\"The poll results are: \")\n",
    "for name, place in results.items():\n",
    "    print(f\"{name.title()} dream vacation would be in {place.title()}\")"
   ]
  }
 ],
 "metadata": {
  "kernelspec": {
   "display_name": "Python 3",
   "language": "python",
   "name": "python3"
  },
  "language_info": {
   "codemirror_mode": {
    "name": "ipython",
    "version": 3
   },
   "file_extension": ".py",
   "mimetype": "text/x-python",
   "name": "python",
   "nbconvert_exporter": "python",
   "pygments_lexer": "ipython3",
   "version": "3.11.3"
  },
  "orig_nbformat": 4
 },
 "nbformat": 4,
 "nbformat_minor": 2
}
