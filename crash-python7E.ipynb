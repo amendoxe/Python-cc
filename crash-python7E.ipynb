{
 "cells": [
  {
   "cell_type": "code",
   "execution_count": 3,
   "metadata": {},
   "outputs": [
    {
     "name": "stdout",
     "output_type": "stream",
     "text": [
      "Searching... Let me see if I can find you a \n"
     ]
    }
   ],
   "source": [
    "#7-1 Rental car\n",
    "# Ask the user what kind of car, imprime mensaje de buscando\n",
    "message = input(\"Escribe el tipo de auto que deseas rentar\")\n",
    "print(f\"Searching... Let me see if I can find you a {message}\")"
   ]
  },
  {
   "cell_type": "code",
   "execution_count": 8,
   "metadata": {},
   "outputs": [],
   "source": [
    "#7-2 Restaurant Seating: How many people if > than 8 wait else ready\n",
    "\n",
    "message = input(\"Escribe para cuantas personas deseas la mesa: \")\n",
    "message = int(message)\n",
    "if message > 0:\n",
    "    if message >= 8:\n",
    "        print(\"Our big tables are full, you'll have to wait for the table\")\n",
    "    else:\n",
    "        print(\"your table is ready\")"
   ]
  },
  {
   "cell_type": "code",
   "execution_count": 17,
   "metadata": {},
   "outputs": [
    {
     "name": "stdout",
     "output_type": "stream",
     "text": [
      "Es múltiplo de 10\n"
     ]
    }
   ],
   "source": [
    "#7-3 Multiples of 10\n",
    "# Ask for a number and report if the number is multiple of 10\n",
    "message = input(f\"Escribe un número y te diré si es multiplo de diez: \")\n",
    "message = int(message)\n",
    "\n",
    "if message % 10 == 0:\n",
    "   print(\"Es múltiplo de 10\")\n",
    "else:\n",
    "   print(\"no es múltiplo de 10\")"
   ]
  },
  {
   "cell_type": "code",
   "execution_count": null,
   "metadata": {},
   "outputs": [],
   "source": [
    "#7-4 pizza toppings\n",
    "#add toppings with message until quit\n",
    "\n",
    "prompt = \"Write the topping you'd like to add to your pizza\"\n",
    "prompt = f\"\\nType 'quit' to stop adding toppings\"\n",
    "toppings = []\n",
    "\n",
    "while True:\n",
    "    message = input(prompt)\n",
    "    if message == \"quit\":\n",
    "        break\n",
    "    else:\n",
    "        toppings.append(message)\n",
    "        print(f\"We are adding the {message} topping\")\n",
    "print(\"The toppings you selected are: \")\n",
    "for topping in toppings:\n",
    "    print(topping)\n"
   ]
  }
 ],
 "metadata": {
  "kernelspec": {
   "display_name": "Python 3",
   "language": "python",
   "name": "python3"
  },
  "language_info": {
   "codemirror_mode": {
    "name": "ipython",
    "version": 3
   },
   "file_extension": ".py",
   "mimetype": "text/x-python",
   "name": "python",
   "nbconvert_exporter": "python",
   "pygments_lexer": "ipython3",
   "version": "3.11.2"
  },
  "orig_nbformat": 4
 },
 "nbformat": 4,
 "nbformat_minor": 2
}
