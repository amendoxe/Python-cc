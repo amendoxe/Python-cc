{
 "cells": [
  {
   "cell_type": "code",
   "execution_count": 1,
   "metadata": {},
   "outputs": [
    {
     "name": "stdout",
     "output_type": "stream",
     "text": [
      "{'color': 'orange', 'year': '2024', 'manufacturer': 'nissan', 'model name': 'sentra'}\n"
     ]
    }
   ],
   "source": [
    "\"\"\" 8-14 f_car_info(manufacturer, model_name, **k args) \"\"\"\n",
    "\n",
    "\n",
    "def car_info_summary(manufacturer, model_name, ** car_info):\n",
    "    \"\"\" returns a dictionary of the user car info \"\"\"\n",
    "    car_info[\"manufacturer\"] = manufacturer\n",
    "    car_info[\"model name\"] = model_name\n",
    "    return car_info\n",
    "\n",
    "\n",
    "user_car = car_info_summary(\"nissan\", \"sentra\", color=\"orange\", year=\"2024\")\n",
    "print(user_car)\n"
   ]
  },
  {
   "cell_type": "code",
   "execution_count": 6,
   "metadata": {},
   "outputs": [
    {
     "name": "stdout",
     "output_type": "stream",
     "text": [
      "The car is a Audi, model A4, year 2024\n"
     ]
    }
   ],
   "source": [
    "\"\"\" Car class examples \"\"\"\n",
    "class Car:\n",
    "    def __init__(self, make, model, year):\n",
    "        self.make = make\n",
    "        self.model = model \n",
    "        self.year = year\n",
    "    def get_descriptive_name(self):\n",
    "        print(f\"The car is a {self.make.title()}, model {self.model.title()}, year {self.year}\")\n",
    "    \n",
    "my_car = Car(\"audi\", \"a4\", \"2024\")\n",
    "my_car.get_descriptive_name()"
   ]
  },
  {
   "cell_type": "code",
   "execution_count": 1,
   "metadata": {},
   "outputs": [
    {
     "ename": "NameError",
     "evalue": "name 'Car' is not defined",
     "output_type": "error",
     "traceback": [
      "\u001b[0;31m---------------------------------------------------------------------------\u001b[0m",
      "\u001b[0;31mNameError\u001b[0m                                 Traceback (most recent call last)",
      "Cell \u001b[0;32mIn[1], line 2\u001b[0m\n\u001b[1;32m      1\u001b[0m \u001b[39m\"\"\" subclase \"\"\"\u001b[39;00m\n\u001b[0;32m----> 2\u001b[0m \u001b[39mclass\u001b[39;00m \u001b[39mElectric\u001b[39;00m(Car):\n\u001b[1;32m      3\u001b[0m     \u001b[39mdef\u001b[39;00m \u001b[39m__init__\u001b[39m(\u001b[39mself\u001b[39m, make, model, year):\n\u001b[1;32m      4\u001b[0m         \u001b[39msuper\u001b[39m()\u001b[39m.\u001b[39m\u001b[39m__init__\u001b[39m(make, model, year)\n",
      "\u001b[0;31mNameError\u001b[0m: name 'Car' is not defined"
     ]
    }
   ],
   "source": [
    "\"\"\" subclase \"\"\"\n",
    "class Electric(Car):\n",
    "    def __init__(self, make, model, year):\n",
    "        super().__init__(make, model, year)\n",
    "        self.odometer = 0\n",
    "my_electric_car = Electric(\"nissan\", \"leaf\", 2024)\n",
    "my_electric_car.get_descriptive_name()\n"
   ]
  },
  {
   "cell_type": "code",
   "execution_count": 4,
   "metadata": {},
   "outputs": [
    {
     "name": "stdout",
     "output_type": "stream",
     "text": [
      "\n",
      "\"\"\"\"\"\"\n"
     ]
    }
   ],
   "source": [
    "print()\n",
    "print('\"\"\"\"\"\"')"
   ]
  },
  {
   "cell_type": "code",
   "execution_count": null,
   "metadata": {},
   "outputs": [],
   "source": []
  },
  {
   "cell_type": "code",
   "execution_count": 6,
   "metadata": {},
   "outputs": [
    {
     "name": "stdout",
     "output_type": "stream",
     "text": [
      "this string\n"
     ]
    }
   ],
   "source": [
    "print(\"this string\")"
   ]
  },
  {
   "cell_type": "markdown",
   "metadata": {},
   "source": []
  }
 ],
 "metadata": {
  "kernelspec": {
   "display_name": "Python 3",
   "language": "python",
   "name": "python3"
  },
  "language_info": {
   "codemirror_mode": {
    "name": "ipython",
    "version": 3
   },
   "file_extension": ".py",
   "mimetype": "text/x-python",
   "name": "python",
   "nbconvert_exporter": "python",
   "pygments_lexer": "ipython3",
   "version": "3.11.3"
  },
  "orig_nbformat": 4
 },
 "nbformat": 4,
 "nbformat_minor": 2
}
