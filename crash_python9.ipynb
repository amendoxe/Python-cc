{
 "cells": [
  {
   "cell_type": "code",
   "execution_count": 1,
   "metadata": {},
   "outputs": [
    {
     "name": "stdout",
     "output_type": "stream",
     "text": [
      "{'color': 'orange', 'year': '2024', 'manufacturer': 'nissan', 'model name': 'sentra'}\n"
     ]
    }
   ],
   "source": [
    "\"\"\" 8-14 f_car_info(manufacturer, model_name, **k args) \"\"\"\n",
    "\n",
    "\n",
    "def car_info_summary(manufacturer, model_name, ** car_info):\n",
    "    \"\"\" returns a dictionary of the user car info \"\"\"\n",
    "    car_info[\"manufacturer\"] = manufacturer\n",
    "    car_info[\"model name\"] = model_name\n",
    "    return car_info\n",
    "\n",
    "\n",
    "user_car = car_info_summary(\"nissan\", \"sentra\", color=\"orange\", year=\"2024\")\n",
    "print(user_car)\n"
   ]
  },
  {
   "cell_type": "code",
   "execution_count": null,
   "metadata": {},
   "outputs": [],
   "source": [
    "\"\"\" Car class examples \"\"\"\n",
    "class Car:\n",
    "    def __init__(self, make, model, year):\n",
    "        self.make = make\n",
    "        self.model = model \n",
    "        self.year = year\n",
    "    def describe_car(self):\n",
    "        print(f\"The car is a {self.make.title()}, model {self.model.title()}, year {self.year}\")\n",
    "    \n",
    "my_car = Car(\"audi\", \"a4\", \"2024\")"
   ]
  }
 ],
 "metadata": {
  "kernelspec": {
   "display_name": "Python 3",
   "language": "python",
   "name": "python3"
  },
  "language_info": {
   "codemirror_mode": {
    "name": "ipython",
    "version": 3
   },
   "file_extension": ".py",
   "mimetype": "text/x-python",
   "name": "python",
   "nbconvert_exporter": "python",
   "pygments_lexer": "ipython3",
   "version": "3.11.3"
  },
  "orig_nbformat": 4
 },
 "nbformat": 4,
 "nbformat_minor": 2
}
