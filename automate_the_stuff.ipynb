{
 "cells": [
  {
   "cell_type": "code",
   "execution_count": 14,
   "metadata": {},
   "outputs": [
    {
     "name": "stdout",
     "output_type": "stream",
     "text": [
      "That is not a number\n"
     ]
    }
   ],
   "source": [
    "\"\"\" print hello if 1 is stored in spam, howdy if 2, greetings for everything else \"\"\"\n",
    "try:\n",
    "    spam = int(input(\"What is in spam, you tell me!\"))\n",
    "\n",
    "    if spam == 1:\n",
    "        print(\"Hello there!\")\n",
    "    elif spam == 2:\n",
    "        print(\"Howdy traveler!\")\n",
    "    else:\n",
    "        print(\"greetings\")\n",
    "\n",
    "except ValueError:\n",
    "    print(\"That is not a number\")"
   ]
  },
  {
   "cell_type": "code",
   "execution_count": 18,
   "metadata": {},
   "outputs": [
    {
     "name": "stdout",
     "output_type": "stream",
     "text": [
      "1\n",
      "2\n",
      "3\n",
      "4\n",
      "5\n",
      "6\n",
      "7\n",
      "8\n",
      "9\n",
      "----------now with a while loop ----------- \n",
      "1\n",
      "2\n",
      "3\n",
      "4\n",
      "5\n",
      "6\n",
      "7\n",
      "8\n",
      "9\n",
      "10\n"
     ]
    }
   ],
   "source": [
    "\"\"\" prints number 1 to 10 using for loop  then the same with a while loop \"\"\"\n",
    "\n",
    "for number in range(1,10):\n",
    "    print(number)\n",
    "\n",
    "print(\"----------now with a while loop ----------- \")\n",
    "i =1\n",
    "while i <=10:\n",
    "    print(i)\n",
    "    i+=1"
   ]
  },
  {
   "cell_type": "code",
   "execution_count": 26,
   "metadata": {},
   "outputs": [
    {
     "name": "stdout",
     "output_type": "stream",
     "text": [
      "4\n",
      "0.2\n"
     ]
    }
   ],
   "source": [
    "\"\"\" Look for round() and abs() and experiment with them \"\"\"\n",
    "print(round(3.923))\n",
    "print(abs(-.20))"
   ]
  },
  {
   "cell_type": "code",
   "execution_count": 3,
   "metadata": {},
   "outputs": [
    {
     "name": "stdout",
     "output_type": "stream",
     "text": [
      "This pancake\n",
      "------calling make-----\n",
      "Those pancakes are Big\n",
      "------print Global I think-----\n",
      "This pancake\n"
     ]
    }
   ],
   "source": [
    "\"\"\" Global vs Local variables \"\"\"\n",
    "pancake = \"This pancake\"\n",
    "def make_Pancake_bigger():\n",
    "    pancake = \"Those pancakes are Big\"\n",
    "    print(pancake)\n",
    "print(pancake)\n",
    "print(\"------calling make-----\")\n",
    "make_Pancake_bigger()\n",
    "print(\"------print Global I think-----\")\n",
    "print(pancake)"
   ]
  },
  {
   "cell_type": "code",
   "execution_count": 4,
   "metadata": {},
   "outputs": [
    {
     "name": "stdout",
     "output_type": "stream",
     "text": [
      "42\n",
      "42\n"
     ]
    }
   ],
   "source": [
    "def spam():\n",
    "    print(eggs)\n",
    "eggs = 42\n",
    "spam()\n",
    "print(eggs)"
   ]
  },
  {
   "cell_type": "code",
   "execution_count": 6,
   "metadata": {},
   "outputs": [
    {
     "name": "stdout",
     "output_type": "stream",
     "text": [
      "0 101\n",
      "99\n"
     ]
    }
   ],
   "source": [
    "def spam():\n",
    "    eggs = 99\n",
    "    bacon()\n",
    "    print(eggs)\n",
    "\n",
    "def bacon():\n",
    "    ham = 101\n",
    "    eggs = 0\n",
    "    print(eggs, ham)\n",
    "spam()"
   ]
  },
  {
   "cell_type": "code",
   "execution_count": 1,
   "metadata": {},
   "outputs": [
    {
     "name": "stdout",
     "output_type": "stream",
     "text": [
      "Hi sdf, nice to see you\n"
     ]
    }
   ],
   "source": [
    "\"\"\" This is some code or something \"\"\"\n",
    "user_name = input(\"Hey, what is your name?\")\n",
    "\n",
    "\n",
    "print(f\"Hi {user_name}, nice to see you\")"
   ]
  },
  {
   "cell_type": "code",
   "execution_count": 2,
   "metadata": {},
   "outputs": [
    {
     "name": "stdout",
     "output_type": "stream",
     "text": [
      "Timmy\n"
     ]
    }
   ],
   "source": [
    "\"\"\" This is some block of code or something  \"\"\"\n",
    "user_name = \"Timmy\"\n",
    "print(user_name)"
   ]
  },
  {
   "cell_type": "code",
   "execution_count": 1,
   "metadata": {},
   "outputs": [
    {
     "name": "stdout",
     "output_type": "stream",
     "text": [
      "10.0\n",
      "5.0\n",
      "3.3333333333333335\n",
      "2.5\n"
     ]
    }
   ],
   "source": [
    "\"\"\" Some try, except \"\"\"\n",
    "var_a = 10\n",
    "\n",
    "try:\n",
    "    for i in range(1, 5):\n",
    "        var_c = var_a / i\n",
    "        print(var_c)\n",
    "except ZeroDivisionError:\n",
    "    print(\"cant divide by Zero\")"
   ]
  },
  {
   "cell_type": "code",
   "execution_count": 4,
   "metadata": {},
   "outputs": [
    {
     "name": "stdout",
     "output_type": "stream",
     "text": [
      "cant divide by Zero\n",
      "10.0\n",
      "5.0\n",
      "3.3333333333333335\n",
      "2.5\n"
     ]
    }
   ],
   "source": [
    "for i in range(0, 5):\n",
    "    try:\n",
    "        var_c = var_a / i\n",
    "        print(var_c)\n",
    "    except ZeroDivisionError:\n",
    "        print(\"cant divide by Zero\")"
   ]
  },
  {
   "cell_type": "code",
   "execution_count": 5,
   "metadata": {},
   "outputs": [
    {
     "name": "stdout",
     "output_type": "stream",
     "text": [
      "That is not a number\n"
     ]
    },
    {
     "ename": "KeyboardInterrupt",
     "evalue": "Interrupted by user",
     "output_type": "error",
     "traceback": [
      "\u001b[0;31m---------------------------------------------------------------------------\u001b[0m",
      "\u001b[0;31mKeyboardInterrupt\u001b[0m                         Traceback (most recent call last)",
      "Cell \u001b[0;32mIn[5], line 19\u001b[0m\n\u001b[1;32m     17\u001b[0m \u001b[39mwhile\u001b[39;00m \u001b[39mTrue\u001b[39;00m:\n\u001b[1;32m     18\u001b[0m     \u001b[39mtry\u001b[39;00m:\n\u001b[0;32m---> 19\u001b[0m         number \u001b[39m=\u001b[39m \u001b[39mint\u001b[39m(\u001b[39minput\u001b[39;49m(\u001b[39m\"\u001b[39;49m\u001b[39mEscribe un número\u001b[39;49m\u001b[39m\"\u001b[39;49m))\n\u001b[1;32m     20\u001b[0m         collatz(number)\n\u001b[1;32m     21\u001b[0m     \u001b[39mexcept\u001b[39;00m \u001b[39mValueError\u001b[39;00m:\n",
      "File \u001b[0;32m~/Library/Python/3.11/lib/python/site-packages/ipykernel/kernelbase.py:1182\u001b[0m, in \u001b[0;36mKernel.raw_input\u001b[0;34m(self, prompt)\u001b[0m\n\u001b[1;32m   1180\u001b[0m     msg \u001b[39m=\u001b[39m \u001b[39m\"\u001b[39m\u001b[39mraw_input was called, but this frontend does not support input requests.\u001b[39m\u001b[39m\"\u001b[39m\n\u001b[1;32m   1181\u001b[0m     \u001b[39mraise\u001b[39;00m StdinNotImplementedError(msg)\n\u001b[0;32m-> 1182\u001b[0m \u001b[39mreturn\u001b[39;00m \u001b[39mself\u001b[39;49m\u001b[39m.\u001b[39;49m_input_request(\n\u001b[1;32m   1183\u001b[0m     \u001b[39mstr\u001b[39;49m(prompt),\n\u001b[1;32m   1184\u001b[0m     \u001b[39mself\u001b[39;49m\u001b[39m.\u001b[39;49m_parent_ident[\u001b[39m\"\u001b[39;49m\u001b[39mshell\u001b[39;49m\u001b[39m\"\u001b[39;49m],\n\u001b[1;32m   1185\u001b[0m     \u001b[39mself\u001b[39;49m\u001b[39m.\u001b[39;49mget_parent(\u001b[39m\"\u001b[39;49m\u001b[39mshell\u001b[39;49m\u001b[39m\"\u001b[39;49m),\n\u001b[1;32m   1186\u001b[0m     password\u001b[39m=\u001b[39;49m\u001b[39mFalse\u001b[39;49;00m,\n\u001b[1;32m   1187\u001b[0m )\n",
      "File \u001b[0;32m~/Library/Python/3.11/lib/python/site-packages/ipykernel/kernelbase.py:1225\u001b[0m, in \u001b[0;36mKernel._input_request\u001b[0;34m(self, prompt, ident, parent, password)\u001b[0m\n\u001b[1;32m   1222\u001b[0m \u001b[39mexcept\u001b[39;00m \u001b[39mKeyboardInterrupt\u001b[39;00m:\n\u001b[1;32m   1223\u001b[0m     \u001b[39m# re-raise KeyboardInterrupt, to truncate traceback\u001b[39;00m\n\u001b[1;32m   1224\u001b[0m     msg \u001b[39m=\u001b[39m \u001b[39m\"\u001b[39m\u001b[39mInterrupted by user\u001b[39m\u001b[39m\"\u001b[39m\n\u001b[0;32m-> 1225\u001b[0m     \u001b[39mraise\u001b[39;00m \u001b[39mKeyboardInterrupt\u001b[39;00m(msg) \u001b[39mfrom\u001b[39;00m \u001b[39mNone\u001b[39m\n\u001b[1;32m   1226\u001b[0m \u001b[39mexcept\u001b[39;00m \u001b[39mException\u001b[39;00m:\n\u001b[1;32m   1227\u001b[0m     \u001b[39mself\u001b[39m\u001b[39m.\u001b[39mlog\u001b[39m.\u001b[39mwarning(\u001b[39m\"\u001b[39m\u001b[39mInvalid Message:\u001b[39m\u001b[39m\"\u001b[39m, exc_info\u001b[39m=\u001b[39m\u001b[39mTrue\u001b[39;00m)\n",
      "\u001b[0;31mKeyboardInterrupt\u001b[0m: Interrupted by user"
     ]
    }
   ],
   "source": [
    "\"\"\" collatz sequence, whatever that means\n",
    "collatz(number), if even returns and prints 2, if off return 3* number + 1 , end when the return number is == 1\n",
    " \"\"\"\n",
    "\n",
    "\n",
    "def collatz(number):\n",
    "    not_even = number % 2\n",
    "    if not_even:\n",
    "        print(2)\n",
    "        return 2\n",
    "    else:\n",
    "        result = 3 * number + 1\n",
    "        print(result)\n",
    "        return result\n",
    "\n",
    "\n",
    "while True:\n",
    "    try:\n",
    "        number = int(input(\"Escribe un número\"))\n",
    "        collatz(number)\n",
    "    except ValueError:\n",
    "        print(\"That is not a number\")"
   ]
  },
  {
   "cell_type": "code",
   "execution_count": 8,
   "metadata": {},
   "outputs": [
    {
     "name": "stdout",
     "output_type": "stream",
     "text": [
      "1\n"
     ]
    }
   ],
   "source": [
    "print(5 % 2)"
   ]
  }
 ],
 "metadata": {
  "kernelspec": {
   "display_name": "Python 3",
   "language": "python",
   "name": "python3"
  },
  "language_info": {
   "codemirror_mode": {
    "name": "ipython",
    "version": 3
   },
   "file_extension": ".py",
   "mimetype": "text/x-python",
   "name": "python",
   "nbconvert_exporter": "python",
   "pygments_lexer": "ipython3",
   "version": "3.11.3"
  },
  "orig_nbformat": 4
 },
 "nbformat": 4,
 "nbformat_minor": 2
}
