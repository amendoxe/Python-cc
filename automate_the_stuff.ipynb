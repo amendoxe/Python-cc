{
 "cells": [
  {
   "cell_type": "code",
   "execution_count": 14,
   "metadata": {},
   "outputs": [
    {
     "name": "stdout",
     "output_type": "stream",
     "text": [
      "That is not a number\n"
     ]
    }
   ],
   "source": [
    "\"\"\" print hello if 1 is stored in spam, howdy if 2, greetings for everything else \"\"\"\n",
    "try:\n",
    "    spam = int(input(\"What is in spam, you tell me!\"))\n",
    "\n",
    "    if spam == 1:\n",
    "        print(\"Hello there!\")\n",
    "    elif spam == 2:\n",
    "        print(\"Howdy traveler!\")\n",
    "    else:\n",
    "        print(\"greetings\")\n",
    "\n",
    "except ValueError:\n",
    "    print(\"That is not a number\")"
   ]
  },
  {
   "cell_type": "code",
   "execution_count": 18,
   "metadata": {},
   "outputs": [
    {
     "name": "stdout",
     "output_type": "stream",
     "text": [
      "1\n",
      "2\n",
      "3\n",
      "4\n",
      "5\n",
      "6\n",
      "7\n",
      "8\n",
      "9\n",
      "----------now with a while loop ----------- \n",
      "1\n",
      "2\n",
      "3\n",
      "4\n",
      "5\n",
      "6\n",
      "7\n",
      "8\n",
      "9\n",
      "10\n"
     ]
    }
   ],
   "source": [
    "\"\"\" prints number 1 to 10 using for loop  then the same with a while loop \"\"\"\n",
    "\n",
    "for number in range(1,10):\n",
    "    print(number)\n",
    "\n",
    "print(\"----------now with a while loop ----------- \")\n",
    "i =1\n",
    "while i <=10:\n",
    "    print(i)\n",
    "    i+=1"
   ]
  },
  {
   "cell_type": "code",
   "execution_count": 26,
   "metadata": {},
   "outputs": [
    {
     "name": "stdout",
     "output_type": "stream",
     "text": [
      "4\n",
      "0.2\n"
     ]
    }
   ],
   "source": [
    "\"\"\" Look for round() and abs() and experiment with them \"\"\"\n",
    "print(round(3.923))\n",
    "print(abs(-.20))"
   ]
  },
  {
   "cell_type": "code",
   "execution_count": 3,
   "metadata": {},
   "outputs": [
    {
     "name": "stdout",
     "output_type": "stream",
     "text": [
      "This pancake\n",
      "------calling make-----\n",
      "Those pancakes are Big\n",
      "------print Global I think-----\n",
      "This pancake\n"
     ]
    }
   ],
   "source": [
    "\"\"\" Global vs Local variables \"\"\"\n",
    "pancake = \"This pancake\"\n",
    "def make_Pancake_bigger():\n",
    "    pancake = \"Those pancakes are Big\"\n",
    "    print(pancake)\n",
    "print(pancake)\n",
    "print(\"------calling make-----\")\n",
    "make_Pancake_bigger()\n",
    "print(\"------print Global I think-----\")\n",
    "print(pancake)"
   ]
  },
  {
   "cell_type": "code",
   "execution_count": 4,
   "metadata": {},
   "outputs": [
    {
     "name": "stdout",
     "output_type": "stream",
     "text": [
      "42\n",
      "42\n"
     ]
    }
   ],
   "source": [
    "def spam():\n",
    "    print(eggs)\n",
    "eggs = 42\n",
    "spam()\n",
    "print(eggs)"
   ]
  },
  {
   "cell_type": "code",
   "execution_count": 6,
   "metadata": {},
   "outputs": [
    {
     "name": "stdout",
     "output_type": "stream",
     "text": [
      "0 101\n",
      "99\n"
     ]
    }
   ],
   "source": [
    "def spam():\n",
    "    eggs = 99\n",
    "    bacon()\n",
    "    print(eggs)\n",
    "\n",
    "def bacon():\n",
    "    ham = 101\n",
    "    eggs = 0\n",
    "    print(eggs, ham)\n",
    "spam()"
   ]
  },
  {
   "cell_type": "code",
   "execution_count": 1,
   "metadata": {},
   "outputs": [
    {
     "name": "stdout",
     "output_type": "stream",
     "text": [
      "Hi sdf, nice to see you\n"
     ]
    }
   ],
   "source": [
    "\"\"\" This is some code or something \"\"\"\n",
    "user_name = input(\"Hey, what is your name?\")\n",
    "\n",
    "\n",
    "print(f\"Hi {user_name}, nice to see you\")"
   ]
  },
  {
   "cell_type": "code",
   "execution_count": 2,
   "metadata": {},
   "outputs": [
    {
     "name": "stdout",
     "output_type": "stream",
     "text": [
      "Timmy\n"
     ]
    }
   ],
   "source": [
    "\"\"\" This is some block of code or something  \"\"\"\n",
    "user_name = \"Timmy\"\n",
    "print(user_name)"
   ]
  },
  {
   "cell_type": "code",
   "execution_count": 1,
   "metadata": {},
   "outputs": [
    {
     "name": "stdout",
     "output_type": "stream",
     "text": [
      "10.0\n",
      "5.0\n",
      "3.3333333333333335\n",
      "2.5\n"
     ]
    }
   ],
   "source": [
    "\"\"\" Some try, except \"\"\"\n",
    "var_a = 10\n",
    "\n",
    "try:\n",
    "    for i in range(1, 5):\n",
    "        var_c = var_a / i\n",
    "        print(var_c)\n",
    "except ZeroDivisionError:\n",
    "    print(\"cant divide by Zero\")"
   ]
  },
  {
   "cell_type": "code",
   "execution_count": 4,
   "metadata": {},
   "outputs": [
    {
     "name": "stdout",
     "output_type": "stream",
     "text": [
      "cant divide by Zero\n",
      "10.0\n",
      "5.0\n",
      "3.3333333333333335\n",
      "2.5\n"
     ]
    }
   ],
   "source": [
    "for i in range(0, 5):\n",
    "    try:\n",
    "        var_c = var_a / i\n",
    "        print(var_c)\n",
    "    except ZeroDivisionError:\n",
    "        print(\"cant divide by Zero\")"
   ]
  },
  {
   "cell_type": "code",
   "execution_count": null,
   "metadata": {},
   "outputs": [],
   "source": []
  }
 ],
 "metadata": {
  "kernelspec": {
   "display_name": "Python 3",
   "language": "python",
   "name": "python3"
  },
  "language_info": {
   "codemirror_mode": {
    "name": "ipython",
    "version": 3
   },
   "file_extension": ".py",
   "mimetype": "text/x-python",
   "name": "python",
   "nbconvert_exporter": "python",
   "pygments_lexer": "ipython3",
   "version": "3.11.3"
  },
  "orig_nbformat": 4
 },
 "nbformat": 4,
 "nbformat_minor": 2
}
