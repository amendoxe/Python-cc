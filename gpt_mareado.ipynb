{
 "cells": [
  {
   "cell_type": "code",
   "execution_count": 5,
   "metadata": {},
   "outputs": [
    {
     "name": "stdout",
     "output_type": "stream",
     "text": [
      "#\n",
      "#\n",
      "#\n",
      "#\n",
      "#\n",
      "\n",
      "\n",
      "#\n",
      "#\n",
      "#\n",
      "#\n",
      "#\n",
      "\n",
      "\n",
      "#\n",
      "#\n",
      "#\n",
      "#\n",
      "#\n",
      "\n",
      "\n",
      "#\n",
      "#\n",
      "#\n",
      "#\n",
      "#\n",
      "\n",
      "\n"
     ]
    }
   ],
   "source": [
    "#imprimiendo piramide\n",
    "# altura = int( input(\"Escribe el numero de cuadros que deseas que la pirámide tenga de altura\"))\n",
    "#paso 1 para cada altura imprimir tag\n",
    "# paso 2 para cada tag imprimir un tag extra\n",
    "alt = 4\n",
    "\n",
    "for tag in range(alt):\n",
    "    for tag in range(alt+1):\n",
    "        print(\"#\")\n",
    "    print(\"\\n\")"
   ]
  },
  {
   "cell_type": "code",
   "execution_count": 6,
   "metadata": {},
   "outputs": [
    {
     "name": "stdout",
     "output_type": "stream",
     "text": [
      "  #\n",
      " ###\n",
      "#####\n"
     ]
    }
   ],
   "source": [
    "for i in range(1, 4):\n",
    "    for j in range(3-i):\n",
    "        print(\" \", end=\"\")\n",
    "    for j in range(2*i-1):\n",
    "        print(\"#\", end=\"\")\n",
    "    print()\n",
    "\n"
   ]
  },
  {
   "cell_type": "code",
   "execution_count": 16,
   "metadata": {},
   "outputs": [
    {
     "name": "stdout",
     "output_type": "stream",
     "text": [
      "#!\n",
      "\n",
      "#!#!\n",
      "\n",
      "#!#!#!\n",
      "\n",
      "#!#!#!#!\n",
      "\n",
      "#!#!#!#!#!\n",
      "\n"
     ]
    }
   ],
   "source": [
    "altura = int(input(\"ingresa la altura\"))\n",
    "for i in range(altura):\n",
    "    for j in range(i+1):\n",
    "        print(\"#\", end=\"!\")\n",
    "    print(\"\\n\")\n"
   ]
  },
  {
   "cell_type": "code",
   "execution_count": 15,
   "metadata": {},
   "outputs": [
    {
     "name": "stdout",
     "output_type": "stream",
     "text": [
      "Something!another!other!other other\n"
     ]
    }
   ],
   "source": [
    "print(\"Something\", \"another\", \"other\", \"other other\", sep=\"!\") "
   ]
  },
  {
   "cell_type": "code",
   "execution_count": 19,
   "metadata": {},
   "outputs": [
    {
     "name": "stdout",
     "output_type": "stream",
     "text": [
      "0\n",
      "\n",
      "11\n",
      "\n",
      "222\n",
      "\n",
      "3333\n",
      "\n",
      "44444\n",
      "\n"
     ]
    }
   ],
   "source": [
    "#imma try to print a pyramid again, explaining whats up\n",
    "\n",
    "height = 5 #vamos a hacerlo auto\n",
    "\n",
    "for i in range(height): # por cada numero vamos a hacer algo\n",
    "    # en 0 por ejemplo vamos a imprimir 1, en 1 imprimimos 2\n",
    "    for j in range(i+1):\n",
    "        print(i, end=\"\")\n",
    "    print(\"\\n\")\n"
   ]
  },
  {
   "cell_type": "code",
   "execution_count": 27,
   "metadata": {},
   "outputs": [
    {
     "name": "stdout",
     "output_type": "stream",
     "text": [
      "1\t2\t3\t4\t5\t6\t7\t8\t9\t10\t\n",
      "2\t4\t6\t8\t10\t12\t14\t16\t18\t20\t\n",
      "3\t6\t9\t12\t15\t18\t21\t24\t27\t30\t\n",
      "4\t8\t12\t16\t20\t24\t28\t32\t36\t40\t\n",
      "5\t10\t15\t20\t25\t30\t35\t40\t45\t50\t\n",
      "6\t12\t18\t24\t30\t36\t42\t48\t54\t60\t\n",
      "7\t14\t21\t28\t35\t42\t49\t56\t63\t70\t\n",
      "8\t16\t24\t32\t40\t48\t56\t64\t72\t80\t\n",
      "9\t18\t27\t36\t45\t54\t63\t72\t81\t90\t\n",
      "10\t20\t30\t40\t50\t60\t70\t80\t90\t100\t\n"
     ]
    }
   ],
   "source": [
    "# Write a program that prints out a multiplication table for numbers 1 through 10. The output should look something like this:\n",
    "\n",
    "for i in range(1,11):\n",
    "    for j in range(1,11):\n",
    "        print(i*j, end=\"\\t\")\n",
    "    print()\n"
   ]
  },
  {
   "cell_type": "code",
   "execution_count": 45,
   "metadata": {},
   "outputs": [
    {
     "name": "stdout",
     "output_type": "stream",
     "text": [
      "3\t9\t15\t21\t27\t33\t39\t45\t51\t57\t63\t69\t75\t81\t87\t93\t99\t5\t15\t25\t35\t45\t55\t65\t75\t85\t95\t7\t21\t35\t49\t63\t77\t91\t9\t27\t45\t63\t81\t99\t11\t33\t55\t77\t99\t13\t39\t65\t91\t15\t45\t75\t17\t51\t85\t19\t57\t95\t21\t63\t23\t69\t25\t75\t27\t81\t29\t87\t31\t93\t33\t99\t35\t37\t39\t41\t43\t45\t47\t49\t51\t53\t55\t57\t59\t61\t63\t65\t67\t69\t71\t73\t75\t77\t79\t81\t83\t85\t87\t89\t91\t93\t95\t97\t99\t"
     ]
    }
   ],
   "source": [
    "# Write a program that prints out all the prime numbers between 1 and 100. A prime number is a number that is only divisible by 1 and itself.\n",
    "\n",
    "top_number = 100\n",
    "for i in range(2,top_number):\n",
    "    \n",
    "    for j in range(2, top_number):\n",
    "        if(j % i == 0 and j % 2 != 0):\n",
    "            print(j, end= \"\\t\")\n",
    "\n",
    "    \n"
   ]
  },
  {
   "cell_type": "code",
   "execution_count": null,
   "metadata": {},
   "outputs": [],
   "source": [
    "for i in range(5)\n"
   ]
  },
  {
   "cell_type": "code",
   "execution_count": 51,
   "metadata": {},
   "outputs": [
    {
     "name": "stdout",
     "output_type": "stream",
     "text": [
      "2\n",
      "3\n",
      "5\n",
      "7\n",
      "11\n",
      "13\n",
      "17\n",
      "19\n",
      "23\n",
      "29\n",
      "31\n",
      "37\n",
      "41\n",
      "43\n",
      "47\n",
      "53\n",
      "59\n",
      "61\n",
      "67\n",
      "71\n",
      "73\n",
      "79\n",
      "83\n",
      "89\n",
      "97\n"
     ]
    }
   ],
   "source": [
    "for i in range(2, 101):\n",
    "    is_prime = True\n",
    "    for j in range(2, i):\n",
    "        if i % j == 0:\n",
    "            is_prime = False\n",
    "            break\n",
    "    if is_prime:\n",
    "        print(i)\n",
    "\n"
   ]
  },
  {
   "cell_type": "code",
   "execution_count": 54,
   "metadata": {},
   "outputs": [
    {
     "name": "stdout",
     "output_type": "stream",
     "text": [
      "2\n",
      "3\n",
      "5\n",
      "7\n",
      "11\n",
      "13\n",
      "17\n",
      "19\n",
      "23\n",
      "29\n",
      "31\n",
      "37\n",
      "41\n",
      "43\n",
      "47\n",
      "53\n",
      "59\n",
      "61\n",
      "67\n",
      "71\n",
      "73\n",
      "79\n",
      "83\n",
      "89\n",
      "97\n"
     ]
    }
   ],
   "source": [
    "for i in range(2, 101):\n",
    "    is_prime = True\n",
    "    for j in range(2, i):\n",
    "        if i % j == 0:\n",
    "            is_prime = False\n",
    "            break\n",
    "    if is_prime:\n",
    "        print(i)\n"
   ]
  },
  {
   "cell_type": "code",
   "execution_count": 53,
   "metadata": {},
   "outputs": [
    {
     "name": "stdout",
     "output_type": "stream",
     "text": [
      "2\n",
      "3\n",
      "5\n",
      "7\n",
      "11\n",
      "13\n",
      "17\n",
      "19\n",
      "23\n",
      "29\n",
      "31\n",
      "37\n",
      "41\n",
      "43\n",
      "47\n",
      "53\n",
      "59\n",
      "61\n",
      "67\n",
      "71\n",
      "73\n",
      "79\n",
      "83\n",
      "89\n",
      "97\n"
     ]
    }
   ],
   "source": [
    "for i in range(2, 101):\n",
    "    is_prime = True\n",
    "    for j in range(2, i):\n",
    "        if i % j == 0:\n",
    "            is_prime = False\n",
    "            if j == i:\n",
    "                break\n",
    "    if is_prime:\n",
    "        print(i)\n"
   ]
  },
  {
   "attachments": {},
   "cell_type": "markdown",
   "metadata": {},
   "source": [
    "2 2\n",
    "3\n",
    "5\n",
    "7\n",
    "11\n",
    "13\n",
    "17\n",
    "19\n",
    "23\n",
    "29\n",
    "31\n",
    "37\n",
    "41\n",
    "43\n",
    "47\n",
    "53\n",
    "59\n",
    "61\n",
    "67\n",
    "71\n",
    "73\n",
    "79\n",
    "83\n",
    "89\n",
    "97\n",
    "3\n",
    "5\n",
    "7\n",
    "11\n",
    "13\n",
    "17\n",
    "19\n",
    "23\n",
    "29\n",
    "31\n",
    "37\n",
    "41\n",
    "43\n",
    "47\n",
    "53\n",
    "59\n",
    "61\n",
    "67\n",
    "71\n",
    "73\n",
    "79\n",
    "83\n",
    "89\n",
    "97"
   ]
  },
  {
   "cell_type": "code",
   "execution_count": 58,
   "metadata": {},
   "outputs": [
    {
     "name": "stdout",
     "output_type": "stream",
     "text": [
      "in range 2\n",
      "in range 3\n",
      "es primo supongo\n"
     ]
    }
   ],
   "source": [
    "numero = 4\n",
    "for i in range(2, numero):\n",
    "    print(\"in range\", i)\n",
    "else:\n",
    "    print(\"es primo supongo\")"
   ]
  }
 ],
 "metadata": {
  "kernelspec": {
   "display_name": "Python 3",
   "language": "python",
   "name": "python3"
  },
  "language_info": {
   "codemirror_mode": {
    "name": "ipython",
    "version": 3
   },
   "file_extension": ".py",
   "mimetype": "text/x-python",
   "name": "python",
   "nbconvert_exporter": "python",
   "pygments_lexer": "ipython3",
   "version": "3.11.2"
  },
  "orig_nbformat": 4
 },
 "nbformat": 4,
 "nbformat_minor": 2
}
