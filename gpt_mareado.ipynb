{
 "cells": [
  {
   "cell_type": "code",
   "execution_count": 5,
   "metadata": {},
   "outputs": [
    {
     "name": "stdout",
     "output_type": "stream",
     "text": [
      "#\n",
      "#\n",
      "#\n",
      "#\n",
      "#\n",
      "\n",
      "\n",
      "#\n",
      "#\n",
      "#\n",
      "#\n",
      "#\n",
      "\n",
      "\n",
      "#\n",
      "#\n",
      "#\n",
      "#\n",
      "#\n",
      "\n",
      "\n",
      "#\n",
      "#\n",
      "#\n",
      "#\n",
      "#\n",
      "\n",
      "\n"
     ]
    }
   ],
   "source": [
    "#imprimiendo piramide\n",
    "# altura = int( input(\"Escribe el numero de cuadros que deseas que la pirámide tenga de altura\"))\n",
    "#paso 1 para cada altura imprimir tag\n",
    "# paso 2 para cada tag imprimir un tag extra\n",
    "alt = 4\n",
    "\n",
    "for tag in range(alt):\n",
    "    for tag in range(alt+1):\n",
    "        print(\"#\")\n",
    "    print(\"\\n\")"
   ]
  },
  {
   "cell_type": "code",
   "execution_count": 6,
   "metadata": {},
   "outputs": [
    {
     "name": "stdout",
     "output_type": "stream",
     "text": [
      "  #\n",
      " ###\n",
      "#####\n"
     ]
    }
   ],
   "source": [
    "for i in range(1, 4):\n",
    "    for j in range(3-i):\n",
    "        print(\" \", end=\"\")\n",
    "    for j in range(2*i-1):\n",
    "        print(\"#\", end=\"\")\n",
    "    print()\n",
    "\n"
   ]
  },
  {
   "cell_type": "code",
   "execution_count": 16,
   "metadata": {},
   "outputs": [
    {
     "name": "stdout",
     "output_type": "stream",
     "text": [
      "#!\n",
      "\n",
      "#!#!\n",
      "\n",
      "#!#!#!\n",
      "\n",
      "#!#!#!#!\n",
      "\n",
      "#!#!#!#!#!\n",
      "\n"
     ]
    }
   ],
   "source": [
    "altura = int(input(\"ingresa la altura\"))\n",
    "for i in range(altura):\n",
    "    for j in range(i+1):\n",
    "        print(\"#\", end=\"!\")\n",
    "    print(\"\\n\")\n"
   ]
  },
  {
   "cell_type": "code",
   "execution_count": 15,
   "metadata": {},
   "outputs": [
    {
     "name": "stdout",
     "output_type": "stream",
     "text": [
      "Something!another!other!other other\n"
     ]
    }
   ],
   "source": [
    "print(\"Something\", \"another\", \"other\", \"other other\", sep=\"!\") "
   ]
  },
  {
   "cell_type": "code",
   "execution_count": 19,
   "metadata": {},
   "outputs": [
    {
     "name": "stdout",
     "output_type": "stream",
     "text": [
      "0\n",
      "\n",
      "11\n",
      "\n",
      "222\n",
      "\n",
      "3333\n",
      "\n",
      "44444\n",
      "\n"
     ]
    }
   ],
   "source": [
    "#imma try to print a pyramid again, explaining whats up\n",
    "\n",
    "height = 5 #vamos a hacerlo auto\n",
    "\n",
    "for i in range(height): # por cada numero vamos a hacer algo\n",
    "    # en 0 por ejemplo vamos a imprimir 1, en 1 imprimimos 2\n",
    "    for j in range(i+1):\n",
    "        print(i, end=\"\")\n",
    "    print(\"\\n\")\n"
   ]
  },
  {
   "cell_type": "code",
   "execution_count": 27,
   "metadata": {},
   "outputs": [
    {
     "name": "stdout",
     "output_type": "stream",
     "text": [
      "1\t2\t3\t4\t5\t6\t7\t8\t9\t10\t\n",
      "2\t4\t6\t8\t10\t12\t14\t16\t18\t20\t\n",
      "3\t6\t9\t12\t15\t18\t21\t24\t27\t30\t\n",
      "4\t8\t12\t16\t20\t24\t28\t32\t36\t40\t\n",
      "5\t10\t15\t20\t25\t30\t35\t40\t45\t50\t\n",
      "6\t12\t18\t24\t30\t36\t42\t48\t54\t60\t\n",
      "7\t14\t21\t28\t35\t42\t49\t56\t63\t70\t\n",
      "8\t16\t24\t32\t40\t48\t56\t64\t72\t80\t\n",
      "9\t18\t27\t36\t45\t54\t63\t72\t81\t90\t\n",
      "10\t20\t30\t40\t50\t60\t70\t80\t90\t100\t\n"
     ]
    }
   ],
   "source": [
    "# Write a program that prints out a multiplication table for numbers 1 through 10. The output should look something like this:\n",
    "\n",
    "for i in range(1,11):\n",
    "    for j in range(1,11):\n",
    "        print(i*j, end=\"\\t\")\n",
    "    print()\n"
   ]
  },
  {
   "cell_type": "code",
   "execution_count": 45,
   "metadata": {},
   "outputs": [
    {
     "name": "stdout",
     "output_type": "stream",
     "text": [
      "3\t9\t15\t21\t27\t33\t39\t45\t51\t57\t63\t69\t75\t81\t87\t93\t99\t5\t15\t25\t35\t45\t55\t65\t75\t85\t95\t7\t21\t35\t49\t63\t77\t91\t9\t27\t45\t63\t81\t99\t11\t33\t55\t77\t99\t13\t39\t65\t91\t15\t45\t75\t17\t51\t85\t19\t57\t95\t21\t63\t23\t69\t25\t75\t27\t81\t29\t87\t31\t93\t33\t99\t35\t37\t39\t41\t43\t45\t47\t49\t51\t53\t55\t57\t59\t61\t63\t65\t67\t69\t71\t73\t75\t77\t79\t81\t83\t85\t87\t89\t91\t93\t95\t97\t99\t"
     ]
    }
   ],
   "source": [
    "# Write a program that prints out all the prime numbers between 1 and 100. A prime number is a number that is only divisible by 1 and itself.\n",
    "\n",
    "top_number = 100\n",
    "for i in range(2,top_number):\n",
    "    \n",
    "    for j in range(2, top_number):\n",
    "        if(j % i == 0 and j % 2 != 0):\n",
    "            print(j, end= \"\\t\")\n",
    "\n",
    "    \n"
   ]
  },
  {
   "cell_type": "code",
   "execution_count": null,
   "metadata": {},
   "outputs": [],
   "source": [
    "for i in range(5)\n"
   ]
  },
  {
   "cell_type": "code",
   "execution_count": 51,
   "metadata": {},
   "outputs": [
    {
     "name": "stdout",
     "output_type": "stream",
     "text": [
      "2\n",
      "3\n",
      "5\n",
      "7\n",
      "11\n",
      "13\n",
      "17\n",
      "19\n",
      "23\n",
      "29\n",
      "31\n",
      "37\n",
      "41\n",
      "43\n",
      "47\n",
      "53\n",
      "59\n",
      "61\n",
      "67\n",
      "71\n",
      "73\n",
      "79\n",
      "83\n",
      "89\n",
      "97\n"
     ]
    }
   ],
   "source": [
    "for i in range(2, 101):\n",
    "    is_prime = True\n",
    "    for j in range(2, i):\n",
    "        if i % j == 0:\n",
    "            is_prime = False\n",
    "            break\n",
    "    if is_prime:\n",
    "        print(i)\n",
    "\n"
   ]
  },
  {
   "cell_type": "code",
   "execution_count": 54,
   "metadata": {},
   "outputs": [
    {
     "name": "stdout",
     "output_type": "stream",
     "text": [
      "2\n",
      "3\n",
      "5\n",
      "7\n",
      "11\n",
      "13\n",
      "17\n",
      "19\n",
      "23\n",
      "29\n",
      "31\n",
      "37\n",
      "41\n",
      "43\n",
      "47\n",
      "53\n",
      "59\n",
      "61\n",
      "67\n",
      "71\n",
      "73\n",
      "79\n",
      "83\n",
      "89\n",
      "97\n"
     ]
    }
   ],
   "source": [
    "for i in range(2, 101):\n",
    "    is_prime = True\n",
    "    for j in range(2, i):\n",
    "        if i % j == 0:\n",
    "            is_prime = False\n",
    "            break\n",
    "    if is_prime:\n",
    "        print(i)\n",
    "#sólo es cero cuando el i es divisible entre otro numero que no sea i, porque cuando j es igual a i salta al siguiente porque el rango nunca lo alcanza"
   ]
  },
  {
   "cell_type": "code",
   "execution_count": 4,
   "metadata": {},
   "outputs": [
    {
     "name": "stdout",
     "output_type": "stream",
     "text": [
      "2\n",
      "3\n",
      "5\n",
      "7\n",
      "11\n",
      "13\n",
      "17\n",
      "19\n",
      "23\n",
      "29\n",
      "31\n",
      "37\n",
      "41\n",
      "43\n",
      "47\n",
      "53\n",
      "59\n",
      "61\n",
      "67\n",
      "71\n",
      "73\n",
      "79\n",
      "83\n",
      "89\n",
      "97\n"
     ]
    }
   ],
   "source": [
    "#Este es el código arreglado, pero esta equivocado, el anterior funciona\n",
    "for i in range(2, 101):\n",
    "    is_prime = True\n",
    "    for j in range(2, i):\n",
    "        if i % j == 0:\n",
    "            is_prime = False\n",
    "            if j == i:\n",
    "                break\n",
    "    if is_prime:\n",
    "        print(i)\n"
   ]
  },
  {
   "cell_type": "code",
   "execution_count": 58,
   "metadata": {},
   "outputs": [
    {
     "name": "stdout",
     "output_type": "stream",
     "text": [
      "in range 2\n",
      "in range 3\n",
      "es primo supongo\n"
     ]
    }
   ],
   "source": [
    "numero = 4\n",
    "for i in range(2, numero):\n",
    "    print(\"in range\", i)\n",
    "else:\n",
    "    print(\"es primo supongo\")"
   ]
  },
  {
   "cell_type": "code",
   "execution_count": 2,
   "metadata": {},
   "outputs": [
    {
     "name": "stdout",
     "output_type": "stream",
     "text": [
      "#\t\n",
      "#\t#\t\n",
      "#\t#\t#\t\n",
      "#\t#\t#\t#\t\n",
      "#\t#\t#\t#\t#\t\n"
     ]
    }
   ],
   "source": [
    "# ok vamos a imprimir la piramide otra vez\n",
    "height = 5\n",
    "for i in range(height):\n",
    "    for j in range(i+1):\n",
    "        print(\"#\", end= \"\\t\")\n",
    "    print()"
   ]
  },
  {
   "cell_type": "code",
   "execution_count": 8,
   "metadata": {},
   "outputs": [
    {
     "name": "stdout",
     "output_type": "stream",
     "text": [
      "#\t\n",
      "\n",
      "#\t#\t\n",
      "\n",
      "#\t#\t#\t\n",
      "\n",
      "#\t#\t#\t#\t\n",
      "\n",
      "#\t#\t#\t#\t#\t\n",
      "\n"
     ]
    }
   ],
   "source": [
    "#make the triangle again\n",
    "for i in range(5):\n",
    "    for j in range(i+1):\n",
    "        print(\"#\", end=\"\\t\")\n",
    "    print(\"\\n\")"
   ]
  },
  {
   "cell_type": "code",
   "execution_count": 28,
   "metadata": {},
   "outputs": [
    {
     "name": "stdout",
     "output_type": "stream",
     "text": [
      "51.5\n",
      "2  es un número primo\n",
      "3  es un número primo\n",
      "5  es un número primo\n",
      "7  es un número primo\n",
      "11  es un número primo\n",
      "13  es un número primo\n",
      "17  es un número primo\n",
      "19  es un número primo\n",
      "23  es un número primo\n",
      "29  es un número primo\n",
      "31  es un número primo\n",
      "37  es un número primo\n",
      "41  es un número primo\n",
      "43  es un número primo\n",
      "47  es un número primo\n",
      "53  es un número primo\n",
      "59  es un número primo\n",
      "61  es un número primo\n",
      "67  es un número primo\n",
      "71  es un número primo\n",
      "73  es un número primo\n",
      "79  es un número primo\n",
      "83  es un número primo\n",
      "89  es un número primo\n",
      "97  es un número primo\n"
     ]
    }
   ],
   "source": [
    "#A ver que podemos, intentar\n",
    "#Imprimir los números primos del 1 al 10, luego probamos con 100 \n",
    "#también vamos a probar con el clásico fizzbuzz\n",
    "\n",
    "limite_numeros_primos = 101\n",
    "mitad_del_limite = limite_numeros_primos/2+1\n",
    "print(mitad_del_limite)\n",
    "for i in range(2, limite_numeros_primos):\n",
    "    is_primo= True #va a ser primo hasta que se demuestre lo contrario \n",
    "    for j in range(2, i): #por cada número dentro del límite desde 2 para evitar /0 (also el rango nunca llega a i, si ninguno llega quiere decir que es un primo)\n",
    "        if i%j == 0:\n",
    "            is_primo = False\n",
    "            # print(i ,\" no es un número primo\")\n",
    "            break\n",
    "    if is_primo == True:\n",
    "        print(i, \" es un número primo\")\n",
    "    "
   ]
  },
  {
   "cell_type": "code",
   "execution_count": 33,
   "metadata": {},
   "outputs": [
    {
     "name": "stdout",
     "output_type": "stream",
     "text": [
      "3, Fizz\n",
      "5, Buzz\n",
      "6, Fizz\n",
      "9, Fizz\n",
      "10, Buzz\n",
      "12, Fizz\n",
      "15, FizzBuzz\n",
      "18, Fizz\n",
      "20, Buzz\n",
      "21, Fizz\n",
      "24, Fizz\n",
      "25, Buzz\n",
      "27, Fizz\n",
      "30, FizzBuzz\n",
      "33, Fizz\n",
      "35, Buzz\n",
      "36, Fizz\n",
      "39, Fizz\n",
      "40, Buzz\n",
      "42, Fizz\n",
      "45, FizzBuzz\n",
      "48, Fizz\n"
     ]
    }
   ],
   "source": [
    "#vamos a probar el fizzbuzz\n",
    "\n",
    "for i in range(1,50): #imprime fizz/3, buzz/5\n",
    "    #Para cada i el mensaje comienza en \"\" y se revisa cada una de las condiciones\n",
    "    mensaje = \"\"\n",
    "    if (i%3 == 0):\n",
    "        mensaje += \"Fizz\"\n",
    "    if (i%5 == 0):\n",
    "        mensaje += \"Buzz\"\n",
    "    if mensaje:\n",
    "        print(f\"{i}, {mensaje}\")"
   ]
  },
  {
   "cell_type": "code",
   "execution_count": 38,
   "metadata": {},
   "outputs": [
    {
     "name": "stdout",
     "output_type": "stream",
     "text": [
      "\t\n",
      "1 #\t\t\n",
      "2 #\t2 #\t\t\n",
      "3 #\t3 #\t3 #\t\t\n",
      "4 #\t4 #\t4 #\t4 #\t\t\n",
      "5 #\t5 #\t5 #\t5 #\t5 #\t\t\n"
     ]
    }
   ],
   "source": [
    "# imprimiendo una piramide\n",
    "for i in range(6): #por cada uno de los valores del 0 al 5 vamos a hacer algo\n",
    "    for j in range(i): #ese algo es imprimir # por cada i caracteres\n",
    "        print(i, \"#\", end=\"\\t\")\n",
    "    print(\"\\t\")\n"
   ]
  }
 ],
 "metadata": {
  "kernelspec": {
   "display_name": "Python 3",
   "language": "python",
   "name": "python3"
  },
  "language_info": {
   "codemirror_mode": {
    "name": "ipython",
    "version": 3
   },
   "file_extension": ".py",
   "mimetype": "text/x-python",
   "name": "python",
   "nbconvert_exporter": "python",
   "pygments_lexer": "ipython3",
   "version": "3.11.2"
  },
  "orig_nbformat": 4
 },
 "nbformat": 4,
 "nbformat_minor": 2
}
