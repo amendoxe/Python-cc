{
 "cells": [
  {
   "cell_type": "code",
   "execution_count": 5,
   "metadata": {},
   "outputs": [
    {
     "name": "stdout",
     "output_type": "stream",
     "text": [
      "\n"
     ]
    }
   ],
   "source": [
    "#parrot\n",
    "prompt = input(\"Escribe un mensaje y te lo repetiré: \")\n",
    "print(prompt)"
   ]
  },
  {
   "cell_type": "code",
   "execution_count": 3,
   "metadata": {},
   "outputs": [
    {
     "name": "stdout",
     "output_type": "stream",
     "text": [
      "Heuulo\n",
      "\n"
     ]
    }
   ],
   "source": [
    "#formating the parrot\n",
    "prompt = \"Write something, and I will write it back\"\n",
    "prompt += \"/n your answer here\" \n",
    "message = input(prompt)\n",
    "print(message)\n",
    "print()"
   ]
  },
  {
   "cell_type": "code",
   "execution_count": 1,
   "metadata": {},
   "outputs": [
    {
     "name": "stdout",
     "output_type": "stream",
     "text": [
      "\n",
      "hi there\n",
      "how are you?\n",
      "fine thank you, and you?\n",
      "?\n",
      "ah, there we go\n"
     ]
    }
   ],
   "source": [
    "#trying the parrot\n",
    "prompt = \"I repeat the message you type\"\n",
    "prompt += f\"\\n type 'quit' to exit program\"\n",
    "message = \"\"\n",
    "while message != \"quit\":\n",
    "    print(message)\n",
    "    message = input(prompt)\n",
    "    "
   ]
  },
  {
   "cell_type": "code",
   "execution_count": 4,
   "metadata": {},
   "outputs": [],
   "source": [
    "#vamos a intentar resolverlo de otra forma\n",
    "prompt = \"I repeat the message you type\"\n",
    "prompt += f\"\\n type 'quit' to exit program\"\n",
    "message = \"\"\n",
    "while message != \"quit\":\n",
    "    message = input(prompt)\n",
    "    if message != \"quit\":\n",
    "        print(message)"
   ]
  },
  {
   "cell_type": "code",
   "execution_count": 3,
   "metadata": {},
   "outputs": [
    {
     "name": "stdout",
     "output_type": "stream",
     "text": [
      "\n",
      "hi there\n",
      "\n",
      "\n"
     ]
    }
   ],
   "source": [
    "#Parrot using flag\n",
    "prompt = \"I repeat the message you type\"\n",
    "prompt += f\"\\n type 'quit' to exit program\"\n",
    "message = \"\"\n",
    "active = True\n",
    "while active == True:\n",
    "    if message != \"quit\":\n",
    "        print(message)\n",
    "        message = input(prompt)\n",
    "    else:\n",
    "        active = False\n"
   ]
  },
  {
   "cell_type": "code",
   "execution_count": 2,
   "metadata": {},
   "outputs": [
    {
     "name": "stdout",
     "output_type": "stream",
     "text": [
      "confirming Fulanite\n",
      "confirming Timmy\n",
      "confirming Jimmy\n",
      "The confirmed users are: \n",
      "Fulanite\n",
      "Timmy\n",
      "Jimmy\n"
     ]
    }
   ],
   "source": [
    "#while con listas\n",
    "unconfirmed_list = [\"jimmy\", \"timmy\", \"Fulanite\"]\n",
    "confirmed_list = []\n",
    "\n",
    "while unconfirmed_list:\n",
    "    user = unconfirmed_list.pop()\n",
    "    print(f\"confirming {user.title()}\")\n",
    "    confirmed_list.append(user)\n",
    "print(\"The confirmed users are: \")\n",
    "for confirmed in confirmed_list:\n",
    "    print(confirmed.title())"
   ]
  },
  {
   "cell_type": "code",
   "execution_count": 4,
   "metadata": {},
   "outputs": [
    {
     "name": "stdout",
     "output_type": "stream",
     "text": [
      "we removed monkey 7 times\n",
      "['cat', 'dog', 'horse', 'elephant', 'penguin', 'lion', 'tiger', 'giraffe', 'zebra']\n"
     ]
    }
   ],
   "source": [
    "#Remove a string from a list\n",
    "animals = [\"cat\", \"dog\", \"horse\", \"elephant\", \"penguin\",\n",
    "           \"lion\", \"monkey\", \"tiger\", \"giraffe\", \"zebra\", \"monkey\", \"monkey\", \"monkey\", \"monkey\", \"monkey\", \"monkey\"]\n",
    "removing = 0\n",
    "while 'monkey' in animals:\n",
    "    animals.remove(\"monkey\")\n",
    "    removing += 1\n",
    "print(f\"we removed monkey {removing} times\")\n",
    "print(animals)"
   ]
  },
  {
   "cell_type": "code",
   "execution_count": 5,
   "metadata": {},
   "outputs": [
    {
     "name": "stdout",
     "output_type": "stream",
     "text": [
      "Timmy would like to climb Otoole someday\n"
     ]
    }
   ],
   "source": [
    "#polling \n",
    "polling_active = True\n",
    "answers = {}\n",
    "while polling_active:\n",
    "    name = input(f\"What is your name? \\n :\")\n",
    "    answer = input(\"Which mountain would you like to  climb someday? \\n :\")\n",
    "    #to dictionary\n",
    "    answers[name] = answer\n",
    "    continuing = input(\"Let someone else to take the poll?\")\n",
    "    if continuing == \"no\":\n",
    "        polling_active = False\n",
    "for name, answer in answers.items():\n",
    "    print(f\"{name.title()} would like to climb {answer.title()} someday\")\n",
    "    \n",
    "\n"
   ]
  },
  {
   "cell_type": "code",
   "execution_count": 11,
   "metadata": {},
   "outputs": [
    {
     "name": "stdout",
     "output_type": "stream",
     "text": [
      "Timmy would like to climb the Montañita mountain someday\n"
     ]
    }
   ],
   "source": [
    "#lets try again without looking\n",
    "#we ask the name and mountain that they would like to climb\n",
    "#ask until quit, and then print all the responses that people gave\n",
    "responses = {}\n",
    "active = True\n",
    "while active:\n",
    "    name = input(\"What is your name \\n: \")\n",
    "    mountain = input(\"Which mountain would you like to climb some day? \\n: \")\n",
    "    responses[name] = mountain\n",
    "    stop_questionary = input(\"Let people continue to answer the questionary? yes/no\\n: \")\n",
    "    if stop_questionary == \"no\" or stop_questionary == \"n\":\n",
    "        active = False\n",
    "for name, mountain in responses.items():\n",
    "    print(f\"{name.title()} would like to climb the {mountain.title()} mountain someday\")"
   ]
  }
 ],
 "metadata": {
  "kernelspec": {
   "display_name": "Python 3",
   "language": "python",
   "name": "python3"
  },
  "language_info": {
   "codemirror_mode": {
    "name": "ipython",
    "version": 3
   },
   "file_extension": ".py",
   "mimetype": "text/x-python",
   "name": "python",
   "nbconvert_exporter": "python",
   "pygments_lexer": "ipython3",
   "version": "3.11.2"
  },
  "orig_nbformat": 4
 },
 "nbformat": 4,
 "nbformat_minor": 2
}
