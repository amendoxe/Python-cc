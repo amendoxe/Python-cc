{
 "cells": [
  {
   "cell_type": "code",
   "execution_count": 5,
   "metadata": {},
   "outputs": [
    {
     "name": "stdout",
     "output_type": "stream",
     "text": [
      "\n"
     ]
    }
   ],
   "source": [
    "#parrot\n",
    "prompt = input(\"Escribe un mensaje y te lo repetiré: \")\n",
    "print(prompt)"
   ]
  },
  {
   "cell_type": "code",
   "execution_count": 3,
   "metadata": {},
   "outputs": [
    {
     "name": "stdout",
     "output_type": "stream",
     "text": [
      "Heuulo\n",
      "\n"
     ]
    }
   ],
   "source": [
    "#formating the parrot\n",
    "prompt = \"Write something, and I will write it back\"\n",
    "prompt += \"/n your answer here\" \n",
    "message = input(prompt)\n",
    "print(message)\n",
    "print()"
   ]
  },
  {
   "cell_type": "code",
   "execution_count": 1,
   "metadata": {},
   "outputs": [
    {
     "name": "stdout",
     "output_type": "stream",
     "text": [
      "\n",
      "hi there\n",
      "how are you?\n",
      "fine thank you, and you?\n",
      "?\n",
      "ah, there we go\n"
     ]
    }
   ],
   "source": [
    "#trying the parrot\n",
    "prompt = \"I repeat the message you type\"\n",
    "prompt += f\"\\n type 'quit' to exit program\"\n",
    "message = \"\"\n",
    "while message != \"quit\":\n",
    "    print(message)\n",
    "    message = input(prompt)\n",
    "    "
   ]
  },
  {
   "cell_type": "code",
   "execution_count": 4,
   "metadata": {},
   "outputs": [],
   "source": [
    "#vamos a intentar resolverlo de otra forma\n",
    "prompt = \"I repeat the message you type\"\n",
    "prompt += f\"\\n type 'quit' to exit program\"\n",
    "message = \"\"\n",
    "while message != \"quit\":\n",
    "    message = input(prompt)\n",
    "    if message != \"quit\":\n",
    "        print(message)"
   ]
  },
  {
   "cell_type": "code",
   "execution_count": 3,
   "metadata": {},
   "outputs": [
    {
     "name": "stdout",
     "output_type": "stream",
     "text": [
      "\n",
      "hi there\n",
      "\n",
      "\n"
     ]
    }
   ],
   "source": [
    "#Parrot using flag\n",
    "prompt = \"I repeat the message you type\"\n",
    "prompt += f\"\\n type 'quit' to exit program\"\n",
    "message = \"\"\n",
    "active = True\n",
    "while active == True:\n",
    "    if message != \"quit\":\n",
    "        print(message)\n",
    "        message = input(prompt)\n",
    "    else:\n",
    "        active = False\n"
   ]
  }
 ],
 "metadata": {
  "kernelspec": {
   "display_name": "Python 3",
   "language": "python",
   "name": "python3"
  },
  "language_info": {
   "codemirror_mode": {
    "name": "ipython",
    "version": 3
   },
   "file_extension": ".py",
   "mimetype": "text/x-python",
   "name": "python",
   "nbconvert_exporter": "python",
   "pygments_lexer": "ipython3",
   "version": "3.11.2"
  },
  "orig_nbformat": 4
 },
 "nbformat": 4,
 "nbformat_minor": 2
}
