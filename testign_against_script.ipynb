{
 "cells": [
  {
   "cell_type": "code",
   "execution_count": null,
   "metadata": {},
   "outputs": [],
   "source": [
    "chosen_color = \"White\"\n",
    "print(f\"the chosen color is: {chosen_color}\")"
   ]
  },
  {
   "cell_type": "code",
   "execution_count": 9,
   "metadata": {},
   "outputs": [
    {
     "name": "stdout",
     "output_type": "stream",
     "text": [
      "orange\n"
     ]
    }
   ],
   "source": [
    "my_list = [\"uno\", \"dos\"]\n",
    "my_list.sort()\n",
    "\n",
    "\n",
    "user_color = \"\"\n",
    "user_second_color = \"\"\n",
    "default_color = \"orange\"\n",
    "print(user_color or user_second_color or default_color)"
   ]
  },
  {
   "cell_type": "code",
   "execution_count": 12,
   "metadata": {},
   "outputs": [
    {
     "name": "stdout",
     "output_type": "stream",
     "text": [
      "-----before------\n",
      "red blue\n",
      "-------after-----\n",
      "blue red\n"
     ]
    }
   ],
   "source": [
    "a = \"red\"\n",
    "b = \"blue\"\n",
    "print(\"-----before------\")\n",
    "print(a, b)\n",
    "c = a\n",
    "print(\"-------after-----\")\n",
    "a = b\n",
    "b = c\n",
    "print(a, b)\n"
   ]
  },
  {
   "cell_type": "code",
   "execution_count": 16,
   "metadata": {},
   "outputs": [
    {
     "name": "stdout",
     "output_type": "stream",
     "text": [
      "-----before------\n",
      "red blue\n",
      "this is the default value\n",
      "-------after-----\n",
      "blue red\n",
      "We got a flipper\n"
     ]
    }
   ],
   "source": [
    "a = \"red\"\n",
    "b = \"blue\"\n",
    "def checking_for_changes(a):\n",
    "    if a == \"red\":\n",
    "        print(\"this is the default value\")\n",
    "    elif a == \"blue\":\n",
    "        print(\"We've got a flipper\")\n",
    "    else:\n",
    "        print(\"What the what?\")\n",
    "print(\"-----before------\")\n",
    "print(a, b)\n",
    "checking_for_changes(a)\n",
    "\n",
    "c = a\n",
    "print(\"-------after-----\")\n",
    "a = b\n",
    "b = c\n",
    "print(a, b)\n",
    "\n",
    "checking_for_changes(a)"
   ]
  },
  {
   "cell_type": "code",
   "execution_count": 18,
   "metadata": {},
   "outputs": [
    {
     "name": "stdout",
     "output_type": "stream",
     "text": [
      "this var value is: this is a string\n",
      "this other var value is: 10\n"
     ]
    }
   ],
   "source": [
    "this_var = \"this is a string\"\n",
    "this_other_var = 10\n",
    "\n",
    "def show_values():\n",
    "    print(f\"this var value is: {this_var}\")\n",
    "    print(f\"this other var value is: {this_other_var}\")\n",
    "\n",
    "show_values()"
   ]
  },
  {
   "cell_type": "code",
   "execution_count": 20,
   "metadata": {},
   "outputs": [
    {
     "name": "stdout",
     "output_type": "stream",
     "text": [
      "this var value is: this is a string\n",
      "this other var value is: 10\n"
     ]
    }
   ],
   "source": [
    "\n",
    "def show_values():\n",
    "    print(f\"this var value is: {this_var}\")\n",
    "    print(f\"this other var value is: {this_other_var}\")\n",
    "\n",
    "show_values()\n",
    "this_var = \"this is a string\"\n",
    "this_other_var = 10"
   ]
  },
  {
   "cell_type": "code",
   "execution_count": 28,
   "metadata": {},
   "outputs": [
    {
     "name": "stdout",
     "output_type": "stream",
     "text": [
      "Good morning\n"
     ]
    }
   ],
   "source": [
    "\"\"\" //hour\n",
    "// If hour is between 6 am and 12 pm: Good morning!\n",
    "//I it is between 12 om and 6 pm: Good afternoon!\n",
    "//Otherwise:Good evening! \"\"\"\n",
    "\n",
    "hour = int( input(\"Ingresa la hora actual\"))\n",
    "if hour > 6 and hour < 12:\n",
    "    print(\"Good morning\")\n",
    "elif hour >= 12 and hour < 18:\n",
    "    print(\"Good afternoon\")\n",
    "else:\n",
    "    print(\"Good evening\")\n"
   ]
  },
  {
   "cell_type": "code",
   "execution_count": 44,
   "metadata": {},
   "outputs": [
    {
     "name": "stdout",
     "output_type": "stream",
     "text": [
      "10\n",
      "this is the time 10\n",
      "this is the time 10\n",
      "this is the time 10\n"
     ]
    }
   ],
   "source": [
    "hour = 10\n",
    "print(hour)\n",
    "for that in range(3):\n",
    "    print(f\"this is the time {hour}\")"
   ]
  },
  {
   "cell_type": "code",
   "execution_count": null,
   "metadata": {},
   "outputs": [],
   "source": [
    "\"\"\" foo bar baz \"\"\"\n",
    "numero_limite = int(input(\"Hasta que número deseas revisar?\"))"
   ]
  },
  {
   "cell_type": "code",
   "execution_count": null,
   "metadata": {},
   "outputs": [],
   "source": [
    "\"\"\" Prime numbers \"\"\"\n",
    "for number in range(2, 10):\n",
    "    is_prime = True\n",
    "    if number % 2 == 0:\n",
    "        is_prime = False\n",
    "    \n",
    "    "
   ]
  },
  {
   "cell_type": "code",
   "execution_count": 2,
   "metadata": {},
   "outputs": [
    {
     "name": "stdout",
     "output_type": "stream",
     "text": [
      "1\n",
      "3\n",
      "5\n",
      "7\n",
      "9\n"
     ]
    }
   ],
   "source": [
    "\"\"\" not pair \"\"\"\n",
    "numero_limite = int(input(\"Hasta que número deseas probar?\"))\n",
    "for numero in range(numero_limite):\n",
    "    if numero % 2 != 0:\n",
    "        print(numero)\n"
   ]
  },
  {
   "cell_type": "code",
   "execution_count": 3,
   "metadata": {},
   "outputs": [
    {
     "name": "stdout",
     "output_type": "stream",
     "text": [
      "2\n",
      "3\n",
      "4\n"
     ]
    }
   ],
   "source": [
    "for num in range(2,5):\n",
    "    print(num)"
   ]
  },
  {
   "cell_type": "code",
   "execution_count": 4,
   "metadata": {},
   "outputs": [
    {
     "name": "stdout",
     "output_type": "stream",
     "text": [
      "False\n",
      "True\n"
     ]
    }
   ],
   "source": [
    "\"\"\" Prime numbers \"\"\"\n",
    "def is_prime(n):\n",
    "    if n <= 1:\n",
    "        return False\n",
    "    for i in range(2, int((n**0.5)+1)):\n",
    "        \n",
    "        if n % i == 0:\n",
    "            return False\n",
    "    \n",
    "    return True\n",
    "\n",
    "print(is_prime(1))\n",
    "print(is_prime(2))"
   ]
  },
  {
   "cell_type": "code",
   "execution_count": 4,
   "metadata": {},
   "outputs": [
    {
     "name": "stdout",
     "output_type": "stream",
     "text": [
      "el string tastic es de tipo <class 'str'>\n",
      "el int tastic es de tipo <class 'str'>\n",
      "False\n"
     ]
    }
   ],
   "source": [
    "\"\"\" como lee el input los... bueno los inputs \"\"\"\n",
    "string_tastic = input(\"Escribe un string\")\n",
    "int_tastic = input(\"Ingresa un número\")\n",
    "print(f\"el string tastic es de tipo {type(string_tastic)}\")\n",
    "print(f\"el int tastic es de tipo {type(int_tastic)}\")\n",
    "int_tastic = isinstance(int_tastic, int)\n",
    "print(int_tastic)"
   ]
  }
 ],
 "metadata": {
  "kernelspec": {
   "display_name": "Python 3",
   "language": "python",
   "name": "python3"
  },
  "language_info": {
   "codemirror_mode": {
    "name": "ipython",
    "version": 3
   },
   "file_extension": ".py",
   "mimetype": "text/x-python",
   "name": "python",
   "nbconvert_exporter": "python",
   "pygments_lexer": "ipython3",
   "version": "3.11.3"
  },
  "orig_nbformat": 4
 },
 "nbformat": 4,
 "nbformat_minor": 2
}
