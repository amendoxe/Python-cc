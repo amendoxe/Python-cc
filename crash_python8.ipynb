{
 "cells": [
  {
   "cell_type": "code",
   "execution_count": 2,
   "metadata": {},
   "outputs": [
    {
     "name": "stdout",
     "output_type": "stream",
     "text": [
      "Hi there\n"
     ]
    }
   ],
   "source": [
    "#Greeting program\n",
    "def greeting():\n",
    "    print(\"Hi there\")\n",
    "greeting()"
   ]
  },
  {
   "cell_type": "code",
   "execution_count": 6,
   "metadata": {},
   "outputs": [
    {
     "name": "stdout",
     "output_type": "stream",
     "text": [
      "Hi Luis, nice to see you\n"
     ]
    }
   ],
   "source": [
    "#Greeting with input\n",
    "def greeting():\n",
    "    name = input(\"What is your name? \")\n",
    "    print(f\"Hi {name.title()}, nice to see you\")\n",
    "greeting()"
   ]
  },
  {
   "cell_type": "code",
   "execution_count": 8,
   "metadata": {},
   "outputs": [
    {
     "name": "stdout",
     "output_type": "stream",
     "text": [
      "Hi, Timmy, looking good\n"
     ]
    }
   ],
   "source": [
    "#greeting payload\n",
    "def greeting(username):\n",
    "    print(f\"Hi, {username}, looking good\")\n",
    "greeting(\"Timmy\")"
   ]
  },
  {
   "cell_type": "code",
   "execution_count": 10,
   "metadata": {},
   "outputs": [
    {
     "name": "stdout",
     "output_type": "stream",
     "text": [
      "I have a Hamster and it's name is Hamilton\n"
     ]
    }
   ],
   "source": [
    "# pkd\n",
    "# Positional arguments\n",
    "def pet(name, type):\n",
    "    print(f\"I have a {type} and it's name is {name}\")\n",
    "\n",
    "pet(\"Hamilton\", \"Hamster\")"
   ]
  },
  {
   "cell_type": "code",
   "execution_count": 11,
   "metadata": {},
   "outputs": [
    {
     "name": "stdout",
     "output_type": "stream",
     "text": [
      "I have a Hamsta and it's name is Hamie\n"
     ]
    }
   ],
   "source": [
    "#key value\n",
    "def pet(type, name):\n",
    "    print(f\"I have a {type} and it's name is {name}\")\n",
    "\n",
    "pet(name=\"Hamie\", type=\"Hamsta\")"
   ]
  },
  {
   "cell_type": "code",
   "execution_count": 13,
   "metadata": {},
   "outputs": [
    {
     "name": "stdout",
     "output_type": "stream",
     "text": [
      "I have a Hamsta and it's name is Lilingstone!\n"
     ]
    }
   ],
   "source": [
    "# default value\n",
    "def pet(name, type=\"Hamsta\"):\n",
    "    print(f\"I have a {type} and it's name is {name.title()}!\")\n",
    "\n",
    "\n",
    "pet(name=\"Lilingstone\")\n"
   ]
  },
  {
   "cell_type": "code",
   "execution_count": 14,
   "metadata": {},
   "outputs": [
    {
     "name": "stdout",
     "output_type": "stream",
     "text": [
      "Jimmy Hendrix\n"
     ]
    }
   ],
   "source": [
    "#function with return\n",
    "def name_format(name, last_name):\n",
    "    full_name = f\"{name} {last_name}\"\n",
    "    return full_name.title()\n",
    "musician = name_format(\"jimmy\", \"hendrix\")\n",
    "print(musician)"
   ]
  },
  {
   "cell_type": "code",
   "execution_count": 24,
   "metadata": {},
   "outputs": [
    {
     "name": "stdout",
     "output_type": "stream",
     "text": [
      "https://www.destructoid.com\n"
     ]
    }
   ],
   "source": [
    "#from 1\n",
    "complete_url = \"https://www.destructoid.com/\"\n",
    "short_url = complete_url.removeprefix(\"https://\")\n",
    "\n",
    "print(short_url)\n"
   ]
  },
  {
   "cell_type": "code",
   "execution_count": 25,
   "metadata": {},
   "outputs": [
    {
     "name": "stdout",
     "output_type": "stream",
     "text": [
      "yes\n",
      "352\n",
      "another thing\n"
     ]
    }
   ],
   "source": [
    "# do some functions\n",
    "def printing(which_variable):\n",
    "    print(which_variable)\n",
    "\n",
    "variable_1 = \"yes\"\n",
    "variable_2 = 352\n",
    "variable_3 = \"another thing\"\n",
    "\n",
    "printing(variable_1)\n",
    "printing(variable_2)\n",
    "printing(variable_3)\n"
   ]
  },
  {
   "cell_type": "code",
   "execution_count": 29,
   "metadata": {},
   "outputs": [
    {
     "name": "stdout",
     "output_type": "stream",
     "text": [
      "my hamsta's name is Hammie\n"
     ]
    }
   ],
   "source": [
    "def myhamsta(name, type = \"hamsta\"):\n",
    "    print(f\"my {type}'s name is {name}\")\n",
    "\n",
    "hamster = myhamsta(\"Hammie\")\n",
    "\n"
   ]
  },
  {
   "cell_type": "code",
   "execution_count": 33,
   "metadata": {},
   "outputs": [
    {
     "name": "stdout",
     "output_type": "stream",
     "text": [
      "Hi Thta, would you like to learn some Python today?\n",
      "THTA\n",
      "thta\n"
     ]
    }
   ],
   "source": [
    "#2-3 varibale to represen a person's name, hello name\n",
    "user_name = input(\"Type your name: \")\n",
    "print(f\"Hi {user_name.title()}, would you like to learn some Python today?\")\n",
    "print(user_name.upper())\n"
   ]
  },
  {
   "cell_type": "code",
   "execution_count": 42,
   "metadata": {},
   "outputs": [
    {
     "name": "stdout",
     "output_type": "stream",
     "text": [
      "The invited people are:\n",
      "Mimmy\n",
      "Jimmy\n",
      "Timmy\n",
      "Ginnie\n",
      "-----------------------------\n",
      "Unfortunately Ginnie will not be able to join us so the list is as follows\n",
      "Mimmy\n",
      "Jimmy\n",
      "Timmy\n",
      "----------------\n",
      "we are adding another guest to the list\n",
      "Hey Mimmy, we would love if you join us for a drink\n",
      "Hey Jimmy, we would love if you join us for a drink\n",
      "Hey Timmy, we would love if you join us for a drink\n",
      "Hey Winny, we would love if you join us for a drink\n"
     ]
    }
   ],
   "source": [
    "#3-1 Lista de invitados\n",
    "invited = [\"mimmy\", \"jimmy\", \"timmy\", \"ginnie\"]\n",
    "#primera opcion\n",
    "print(\"The invited people are:\")\n",
    "for invite in invited:\n",
    "    print(invite.title())\n",
    "print(\"-----------------------------\")\n",
    "print(f\"Unfortunately {invited.pop().title()} will not be able to join us so the list is as follows\")\n",
    "\n",
    "for invite in invited:\n",
    "    print(invite.title())\n",
    "L\n",
    "print(\"----------------\")\n",
    "print(\"we are adding another guest to the list\")\n",
    "invited.append(\"winny\")\n",
    "for invite in invited:\n",
    "    print(f\"Hey {invite.title()}, we would love if you join us for a drink\")"
   ]
  },
  {
   "cell_type": "code",
   "execution_count": 44,
   "metadata": {},
   "outputs": [
    {
     "name": "stdout",
     "output_type": "stream",
     "text": [
      "The dog's name is: Timmy\n"
     ]
    }
   ],
   "source": [
    "#testing the default values\n",
    "def pet_description(name, type = \"dog\"):\n",
    "    print(f\"The {type}'s name is: {name.title()}\")\n",
    "\n",
    "pet_description(\"timmy\")"
   ]
  },
  {
   "cell_type": "code",
   "execution_count": 2,
   "metadata": {},
   "outputs": [
    {
     "name": "stdout",
     "output_type": "stream",
     "text": [
      "dog's name is: Jake\n",
      "hamster's name is: Hammy\n"
     ]
    }
   ],
   "source": [
    "#positional first\n",
    "def describe_pet(name, type = \"dog\"):\n",
    "    print(f\"{type}'s name is: {name.title()}\")\n",
    "\n",
    "describe_pet(\"jake\")\n",
    "describe_pet(\"hammy\", \"hamster\")\n"
   ]
  },
  {
   "cell_type": "code",
   "execution_count": 6,
   "metadata": {},
   "outputs": [
    {
     "name": "stdout",
     "output_type": "stream",
     "text": [
      "Write your name\n",
      "Jimmy Cracker\n"
     ]
    }
   ],
   "source": [
    "#functions \n",
    "def format_name():\n",
    "    print(\"Write your name\")\n",
    "    fname = {}\n",
    "    name = input(\"name: \")\n",
    "    last = input(\"last name:\")\n",
    "\n",
    "    f_name = name + \" \" + last\n",
    "    return f_name.title()\n",
    "full_name = format_name()\n",
    "print(full_name)\n"
   ]
  },
  {
   "cell_type": "code",
   "execution_count": 9,
   "metadata": {},
   "outputs": [
    {
     "name": "stdout",
     "output_type": "stream",
     "text": [
      "Jimmy Cracker\n"
     ]
    }
   ],
   "source": [
    "#Create a dictionary from a name\n",
    "def create(name, last_name):\n",
    "    person= {\"first\" : name, \"last\": last_name}\n",
    "    print(person[\"first\"].title(), person[\"last\"].title())\n",
    "create(\"jimmy\", \"cracker\")"
   ]
  },
  {
   "cell_type": "code",
   "execution_count": 17,
   "metadata": {},
   "outputs": [
    {
     "name": "stdout",
     "output_type": "stream",
     "text": [
      "Type the musician name\n",
      "The musician name is:\n",
      "Jamyttie Cracker\n"
     ]
    }
   ],
   "source": [
    "#create an object from a name\n",
    "def format_name(first_name, last_name):\n",
    "    formatted_name = {\"first\": first_name, \"last\": last_name}\n",
    "    print(formatted_name[\"first\"].title(), formatted_name[\"last\"].title())\n",
    "\n",
    "print(\"Type the musician name\")\n",
    "name = input(\"Type the first name\")\n",
    "last = input(\"Type the last name\")\n",
    "print(\"The musician name is:\")\n",
    "musician = format_name(name, last)"
   ]
  },
  {
   "cell_type": "code",
   "execution_count": 2,
   "metadata": {},
   "outputs": [
    {
     "name": "stdout",
     "output_type": "stream",
     "text": [
      "{'first': 'jimmity', 'last': 'handrix', 'age': 28}\n"
     ]
    }
   ],
   "source": [
    "# Return a dictionary\n",
    "def person_dictionary(name, last, age = None):\n",
    "    person = { \"first\": name, \"last\": last}\n",
    "    if age:\n",
    "        person[\"age\"] = age\n",
    "    return person\n",
    "\n",
    "music = person_dictionary(\"jimmity\", \"handrix\", 28)\n",
    "print(music)"
   ]
  }
 ],
 "metadata": {
  "kernelspec": {
   "display_name": "Python 3",
   "language": "python",
   "name": "python3"
  },
  "language_info": {
   "codemirror_mode": {
    "name": "ipython",
    "version": 3
   },
   "file_extension": ".py",
   "mimetype": "text/x-python",
   "name": "python",
   "nbconvert_exporter": "python",
   "pygments_lexer": "ipython3",
   "version": "3.11.3"
  },
  "orig_nbformat": 4
 },
 "nbformat": 4,
 "nbformat_minor": 2
}
