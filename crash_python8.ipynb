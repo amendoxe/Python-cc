{
 "cells": [
  {
   "cell_type": "code",
   "execution_count": 2,
   "metadata": {},
   "outputs": [
    {
     "name": "stdout",
     "output_type": "stream",
     "text": [
      "Hi there\n"
     ]
    }
   ],
   "source": [
    "#Greeting program\n",
    "def greeting():\n",
    "    print(\"Hi there\")\n",
    "greeting()"
   ]
  },
  {
   "cell_type": "code",
   "execution_count": 6,
   "metadata": {},
   "outputs": [
    {
     "name": "stdout",
     "output_type": "stream",
     "text": [
      "Hi Luis, nice to see you\n"
     ]
    }
   ],
   "source": [
    "#Greeting with input\n",
    "def greeting():\n",
    "    name = input(\"What is your name? \")\n",
    "    print(f\"Hi {name.title()}, nice to see you\")\n",
    "greeting()"
   ]
  },
  {
   "cell_type": "code",
   "execution_count": 8,
   "metadata": {},
   "outputs": [
    {
     "name": "stdout",
     "output_type": "stream",
     "text": [
      "Hi, Timmy, looking good\n"
     ]
    }
   ],
   "source": [
    "#greeting payload\n",
    "def greeting(username):\n",
    "    print(f\"Hi, {username}, looking good\")\n",
    "greeting(\"Timmy\")"
   ]
  },
  {
   "cell_type": "code",
   "execution_count": 10,
   "metadata": {},
   "outputs": [
    {
     "name": "stdout",
     "output_type": "stream",
     "text": [
      "I have a Hamster and it's name is Hamilton\n"
     ]
    }
   ],
   "source": [
    "# pkd\n",
    "# Positional arguments\n",
    "def pet(name, type):\n",
    "    print(f\"I have a {type} and it's name is {name}\")\n",
    "\n",
    "pet(\"Hamilton\", \"Hamster\")"
   ]
  },
  {
   "cell_type": "code",
   "execution_count": 11,
   "metadata": {},
   "outputs": [
    {
     "name": "stdout",
     "output_type": "stream",
     "text": [
      "I have a Hamsta and it's name is Hamie\n"
     ]
    }
   ],
   "source": [
    "#key value\n",
    "def pet(type, name):\n",
    "    print(f\"I have a {type} and it's name is {name}\")\n",
    "\n",
    "pet(name=\"Hamie\", type=\"Hamsta\")"
   ]
  },
  {
   "cell_type": "code",
   "execution_count": 13,
   "metadata": {},
   "outputs": [
    {
     "name": "stdout",
     "output_type": "stream",
     "text": [
      "I have a Hamsta and it's name is Lilingstone!\n"
     ]
    }
   ],
   "source": [
    "# default value\n",
    "def pet(name, type=\"Hamsta\"):\n",
    "    print(f\"I have a {type} and it's name is {name.title()}!\")\n",
    "\n",
    "\n",
    "pet(name=\"Lilingstone\")\n"
   ]
  },
  {
   "cell_type": "code",
   "execution_count": 14,
   "metadata": {},
   "outputs": [
    {
     "name": "stdout",
     "output_type": "stream",
     "text": [
      "Jimmy Hendrix\n"
     ]
    }
   ],
   "source": [
    "#function with return\n",
    "def name_format(name, last_name):\n",
    "    full_name = f\"{name} {last_name}\"\n",
    "    return full_name.title()\n",
    "musician = name_format(\"jimmy\", \"hendrix\")\n",
    "print(musician)"
   ]
  },
  {
   "cell_type": "code",
   "execution_count": 24,
   "metadata": {},
   "outputs": [
    {
     "name": "stdout",
     "output_type": "stream",
     "text": [
      "https://www.destructoid.com\n"
     ]
    }
   ],
   "source": [
    "#from 1\n",
    "complete_url = \"https://www.destructoid.com/\"\n",
    "short_url = complete_url.removeprefix(\"https://\")\n",
    "\n",
    "print(short_url)\n"
   ]
  }
 ],
 "metadata": {
  "kernelspec": {
   "display_name": "Python 3",
   "language": "python",
   "name": "python3"
  },
  "language_info": {
   "codemirror_mode": {
    "name": "ipython",
    "version": 3
   },
   "file_extension": ".py",
   "mimetype": "text/x-python",
   "name": "python",
   "nbconvert_exporter": "python",
   "pygments_lexer": "ipython3",
   "version": "3.11.2"
  },
  "orig_nbformat": 4
 },
 "nbformat": 4,
 "nbformat_minor": 2
}
