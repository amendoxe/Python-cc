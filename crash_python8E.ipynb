{
 "cells": [
  {
   "cell_type": "code",
   "execution_count": 1,
   "metadata": {},
   "outputs": [
    {
     "name": "stdout",
     "output_type": "stream",
     "text": [
      "In chapter 8 we are learning about functions\n"
     ]
    }
   ],
   "source": [
    "# 8-1 Message\n",
    "#function display message, print this chapt\n",
    "def this_chapter():\n",
    "    print(\"In chapter 8 we are learning about functions\")\n",
    "this_chapter()"
   ]
  },
  {
   "cell_type": "code",
   "execution_count": 2,
   "metadata": {},
   "outputs": [
    {
     "name": "stdout",
     "output_type": "stream",
     "text": [
      "One of my favorite books evur is: Ender's game\n"
     ]
    }
   ],
   "source": [
    "#8-2 Favorite Book\n",
    "#function favorite book (title) print the title\n",
    "def favorite_book(title):\n",
    "    print(f\"One of my favorite books evur is: {title}\")\n",
    "\n",
    "favorite_book(\"Ender's game\")"
   ]
  },
  {
   "cell_type": "code",
   "execution_count": 7,
   "metadata": {},
   "outputs": [
    {
     "name": "stdout",
     "output_type": "stream",
     "text": [
      "-------order------\n",
      "Preparing the order of a XL shirt with the text: \n",
      "\tWe Will Hug You\n",
      "-------order------\n",
      "Preparing the order of a L shirt with the text: \n",
      "\tThis Is The Hidden Track\n"
     ]
    }
   ],
   "source": [
    "#8-3 T-shirt\n",
    "#function make_shirt(size, text)\n",
    "#one call positional, one call keyword\n",
    "def make_shirt(size, text):\n",
    "    print(\"-------order------\")\n",
    "    print(f\"Preparing the order of a {size.upper()} shirt with the text: \\n\\t{text.title()}\")\n",
    "\n",
    "make_shirt(\"xl\", \"We will hug you\")\n",
    "make_shirt(text=\"This is the hidden track\", size=\"L\")"
   ]
  },
  {
   "cell_type": "code",
   "execution_count": 15,
   "metadata": {},
   "outputs": [
    {
     "name": "stdout",
     "output_type": "stream",
     "text": [
      "-------order------\n",
      "Preparing the order of a 'L' shirt with the text: \n",
      "\tI 💚 Python\n",
      "-------order------\n",
      "Preparing the order of a 'M' shirt with the text: \n",
      "\tPython 💚 Me!\n",
      "-------order------\n",
      "Preparing the order of a 'S' shirt with the text: \n",
      "\tThis Is Another Python 💚 Shirt\n"
     ]
    }
   ],
   "source": [
    "#8-3 Large shirts\n",
    "#modify 8-2 shirts large by default, message I 💚 Python\n",
    "#make a different large, medium and another size\n",
    "def make_shirt(size=\"L\", text=\"I 💚 Python\"):\n",
    "    print(\"-------order------\")\n",
    "    print(f\"Preparing the order of a '{size.upper()}' shirt with the text: \\n\\t{text.title()}\")\n",
    "\n",
    "def make_shirt_m(size=\"m\", text=\"Python 💚 me!\"):\n",
    "    print(\"-------order------\")\n",
    "    print(f\"Preparing the order of a '{size.upper()}' shirt with the text: \\n\\t{text.title()}\")\n",
    "    \n",
    "def make_shirt_s(size = \"s\", text = \"This is another Python 💚 shirt\"):\n",
    "    print(\"-------order------\")\n",
    "    print(f\"Preparing the order of a '{size.upper()}' shirt with the text: \\n\\t{text.title()}\")\n",
    "\n",
    "make_shirt()\n",
    "make_shirt_m()\n",
    "make_shirt_s()\n",
    "\n"
   ]
  },
  {
   "cell_type": "code",
   "execution_count": 16,
   "metadata": {},
   "outputs": [
    {
     "name": "stdout",
     "output_type": "stream",
     "text": [
      "Toluca city is in Mexico\n",
      "Morelia city is in Mexico\n",
      "Monterrey city is in Mexico\n",
      "Kyoto city is in Japan\n"
     ]
    }
   ],
   "source": [
    "#8-5 Cities\n",
    "#describe_city(name country) it prints where is the city\n",
    "#country default, call 3 one not default country\n",
    "\n",
    "def describe_city(name, country = \"Mexico\"):\n",
    "    print(f\"{name.title()} city is in {country.title()}\")\n",
    "\n",
    "describe_city(\"Toluca\")\n",
    "describe_city(\"Morelia\")\n",
    "describe_city(\"Monterrey\")\n",
    "describe_city(\"Kyoto\", \"japan\")"
   ]
  }
 ],
 "metadata": {
  "kernelspec": {
   "display_name": "Python 3",
   "language": "python",
   "name": "python3"
  },
  "language_info": {
   "codemirror_mode": {
    "name": "ipython",
    "version": 3
   },
   "file_extension": ".py",
   "mimetype": "text/x-python",
   "name": "python",
   "nbconvert_exporter": "python",
   "pygments_lexer": "ipython3",
   "version": "3.11.2"
  },
  "orig_nbformat": 4
 },
 "nbformat": 4,
 "nbformat_minor": 2
}
