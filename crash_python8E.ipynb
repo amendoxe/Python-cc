{
 "cells": [
  {
   "cell_type": "code",
   "execution_count": 1,
   "metadata": {},
   "outputs": [
    {
     "name": "stdout",
     "output_type": "stream",
     "text": [
      "In chapter 8 we are learning about functions\n"
     ]
    }
   ],
   "source": [
    "# 8-1 Message\n",
    "#function display message, print this chapt\n",
    "def this_chapter():\n",
    "    print(\"In chapter 8 we are learning about functions\")\n",
    "this_chapter()"
   ]
  },
  {
   "cell_type": "code",
   "execution_count": 2,
   "metadata": {},
   "outputs": [
    {
     "name": "stdout",
     "output_type": "stream",
     "text": [
      "One of my favorite books evur is: Ender's game\n"
     ]
    }
   ],
   "source": [
    "#8-2 Favorite Book\n",
    "#function favorite book (title) print the title\n",
    "def favorite_book(title):\n",
    "    print(f\"One of my favorite books evur is: {title}\")\n",
    "\n",
    "favorite_book(\"Ender's game\")"
   ]
  },
  {
   "cell_type": "code",
   "execution_count": null,
   "metadata": {},
   "outputs": [],
   "source": []
  }
 ],
 "metadata": {
  "kernelspec": {
   "display_name": "Python 3",
   "language": "python",
   "name": "python3"
  },
  "language_info": {
   "codemirror_mode": {
    "name": "ipython",
    "version": 3
   },
   "file_extension": ".py",
   "mimetype": "text/x-python",
   "name": "python",
   "nbconvert_exporter": "python",
   "pygments_lexer": "ipython3",
   "version": "3.11.2"
  },
  "orig_nbformat": 4
 },
 "nbformat": 4,
 "nbformat_minor": 2
}
